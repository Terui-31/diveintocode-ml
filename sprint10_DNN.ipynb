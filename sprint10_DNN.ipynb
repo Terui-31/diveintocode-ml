{
 "cells": [
  {
   "cell_type": "code",
   "execution_count": 1,
   "metadata": {},
   "outputs": [],
   "source": [
    "import numpy as np\n",
    "from keras.datasets import mnist\n",
    "\n",
    "(X_train, y_train), (X_test, y_test) = mnist.load_data()"
   ]
  },
  {
   "cell_type": "code",
   "execution_count": 2,
   "metadata": {},
   "outputs": [],
   "source": [
    "# 平滑化\n",
    "    \n",
    "X_train = X_train.reshape(-1, 784)\n",
    "X_test = X_test.reshape(-1, 784)"
   ]
  },
  {
   "cell_type": "code",
   "execution_count": 3,
   "metadata": {},
   "outputs": [],
   "source": [
    "# 前処理\n",
    "\n",
    "X_train = X_train.astype(np.float)\n",
    "X_test = X_test.astype(np.float)\n",
    "X_train /= 255\n",
    "X_test /= 255"
   ]
  },
  {
   "cell_type": "code",
   "execution_count": 4,
   "metadata": {},
   "outputs": [],
   "source": [
    "# 8:2にtrain_test_split\n",
    "\n",
    "from sklearn.model_selection import train_test_split\n",
    "\n",
    "X_train, X_val, y_train, y_val = train_test_split(X_train, y_train, test_size=0.2)"
   ]
  },
  {
   "cell_type": "markdown",
   "metadata": {},
   "source": [
    "# 【問題1】全結合層のクラス化"
   ]
  },
  {
   "cell_type": "markdown",
   "metadata": {},
   "source": [
    "# Layer"
   ]
  },
  {
   "cell_type": "code",
   "execution_count": 5,
   "metadata": {},
   "outputs": [],
   "source": [
    "class FC:\n",
    "    \n",
    "    \"\"\"\n",
    "    ノード数n_nodes1からn_nodes2への全結合層\n",
    "    Parameters\n",
    "    ----------\n",
    "    n_nodes1 : int\n",
    "      前の層のノード数\n",
    "    n_nodes2 : int\n",
    "      後の層のノード数\n",
    "    initializer : 初期化方法のインスタンス\n",
    "    optimizer : 最適化手法のインスタンス\n",
    "    \"\"\"\n",
    "    \n",
    "    def __init__(self, n_nodes1, n_nodes2, initializer, optimizer):\n",
    "        \n",
    "        self.optimizer = optimizer\n",
    "        \n",
    "        # initializer のメソッドを実行し初期値を生成、以後更新\n",
    "        self.W = initializer.W(n_nodes1, n_nodes2)\n",
    "        self.B = initializer.B(n_nodes2)\n",
    "       \n",
    "        self.X = None\n",
    "        self.dZ = None\n",
    "        \n",
    "    \n",
    "    def forward(self, X):\n",
    "        \"\"\"\n",
    "        フォワード\n",
    "        \n",
    "        Parameters\n",
    "        ----------\n",
    "        X : 次の形のndarray, shape (batch_size, n_nodes1)\n",
    "            入力\n",
    "            \n",
    "        Returns\n",
    "        ----------\n",
    "        A : 次の形のndarray, shape (batch_size, n_nodes2)\n",
    "            出力\n",
    "        \"\"\"\n",
    "        \n",
    "        # 入力Xをコントラクタに保存、backwardで使う\n",
    "        self.X = X\n",
    "        \n",
    "        # アフィン変換\n",
    "        A = X.dot(self.W) + self.B\n",
    "\n",
    "        return A\n",
    "    \n",
    "    \n",
    "    def backward(self, dA):\n",
    "        \n",
    "        \"\"\"\n",
    "        バックワード\n",
    "        \n",
    "        Parameters\n",
    "        ----------\n",
    "        dA : 次の形のndarray, shape (batch_size, n_nodes2)\n",
    "            後ろから流れてきた勾配\n",
    "            \n",
    "        Returns\n",
    "        ----------\n",
    "        dZ : 次の形のndarray, shape (batch_size, n_nodes1)\n",
    "            前に流す勾配\n",
    "            \n",
    "        \"\"\"\n",
    "        # 前のノードに流す勾配\n",
    "        self.dZ = np.dot(dA, self.W.T)\n",
    "        \n",
    "        # バイアスに流す勾配\n",
    "        self.dB = np.sum(dA, axis=0)\n",
    "        \n",
    "        # 重み行列に流す勾配\n",
    "        self.dW = np.dot(self.X.T, dA)\n",
    "        \n",
    "        # 更新\n",
    "        self.optimizer.update(self)\n",
    "        \n",
    "        return self.dZ"
   ]
  },
  {
   "cell_type": "markdown",
   "metadata": {},
   "source": [
    "## 【問題4】活性化関数のクラス化"
   ]
  },
  {
   "cell_type": "code",
   "execution_count": 6,
   "metadata": {},
   "outputs": [],
   "source": [
    "class Tanh:\n",
    "         \n",
    "    def forward(self, A):\n",
    "\n",
    "        self.Z = (np.exp(A) - np.exp(-A)) / (np.exp(A) + np.exp(-A))\n",
    "        return self.Z\n",
    "    \n",
    "    \n",
    "    def backward(self, dZ):\n",
    "        \n",
    "        dA = dZ*(1 - self.Z)**2\n",
    "        return dA"
   ]
  },
  {
   "cell_type": "code",
   "execution_count": 7,
   "metadata": {},
   "outputs": [],
   "source": [
    "class Softmax:\n",
    "    \n",
    "    def forward(self, A):\n",
    "        \n",
    "        A = A - np.max(A, axis=1, keepdims=True)\n",
    "        Z = np.exp(A) / np.sum(np.exp(A), axis=1, keepdims=True)\n",
    "        return Z\n",
    "        \n",
    "        \n",
    "    def backward(self, dZ, Y):\n",
    "        \n",
    "        batch_size = dZ.shape[0]\n",
    "        dA = (dZ - Y) / batch_size\n",
    "        \n",
    "        loss = (-1)*np.sum(Y * np.log(dZ + 1e-7))  / batch_size\n",
    "        \n",
    "        \n",
    "        return dA, loss"
   ]
  },
  {
   "cell_type": "markdown",
   "metadata": {},
   "source": [
    "## 【問題5】ReLUクラスの作成"
   ]
  },
  {
   "cell_type": "code",
   "execution_count": 22,
   "metadata": {},
   "outputs": [],
   "source": [
    "class ReLU:\n",
    "    \n",
    "    \n",
    "    def __init__(self):\n",
    "        \n",
    "        self.mask = None\n",
    "    \n",
    "    \n",
    "    def forward(self, A):\n",
    "\n",
    "        self.mask = (A <= 0)\n",
    "        Z = np.maximum(0, A)\n",
    "        return Z\n",
    "        \n",
    "    \n",
    "    def backward(self, dA):\n",
    "        \n",
    "        dA[self.mask] = 0\n",
    "        return dA"
   ]
  },
  {
   "cell_type": "markdown",
   "metadata": {},
   "source": [
    "## 【問題2】初期化方法のクラス化"
   ]
  },
  {
   "cell_type": "markdown",
   "metadata": {},
   "source": [
    "# Initializer"
   ]
  },
  {
   "cell_type": "code",
   "execution_count": 9,
   "metadata": {},
   "outputs": [],
   "source": [
    "class SimpleInitializer():\n",
    "    \n",
    "    \"\"\"\n",
    "    ガウス分布によるシンプルな初期化\n",
    "    Parameters\n",
    "    ----------\n",
    "    sigma : float\n",
    "      ガウス分布の標準偏差\n",
    "    \"\"\"\n",
    "    \n",
    "    def __init__(self, sigma=0.01):\n",
    "        \n",
    "        self.sigma = sigma\n",
    "        \n",
    "        \n",
    "    def W(self, n_nodes1, n_nodes2):\n",
    "        \n",
    "        \"\"\"\n",
    "        重みの初期化\n",
    "        \n",
    "        Parameters\n",
    "        ----------\n",
    "        n_nodes1 : int\n",
    "          前の層のノード数\n",
    "        n_nodes2 : int\n",
    "          後の層のノード数\n",
    "          \n",
    "        Returns\n",
    "        ----------\n",
    "        W :float\n",
    "            重みの初期値\n",
    "            \n",
    "        \"\"\"\n",
    "        \n",
    "        W = self.sigma * np.random.randn(n_nodes1, n_nodes2)\n",
    "        \n",
    "        return W\n",
    "    \n",
    "    \n",
    "    def B(self, n_nodes2):\n",
    "        \n",
    "        \"\"\"\n",
    "        バイアスの初期化\n",
    "        \n",
    "        Parameters\n",
    "        ----------\n",
    "        n_nodes2 : int\n",
    "          後の層のノード数\n",
    "          \n",
    "        Returns\n",
    "        ----------\n",
    "        B :float\n",
    "            バイアスの初期値\n",
    "            \n",
    "        \"\"\"\n",
    "        \n",
    "        B = self.sigma * np.random.randn(n_nodes2)\n",
    "        \n",
    "        return B"
   ]
  },
  {
   "cell_type": "markdown",
   "metadata": {},
   "source": [
    "## 【問題6】重みの初期値"
   ]
  },
  {
   "cell_type": "code",
   "execution_count": 10,
   "metadata": {},
   "outputs": [],
   "source": [
    "class XavierInitializer:\n",
    "    \n",
    "    \"\"\"\n",
    "    Xavierの初期値\n",
    "      \n",
    "    \"\"\"\n",
    "    \n",
    "    def __init__(self, sigma):\n",
    "        \n",
    "        self.sigma = sigma\n",
    "        \n",
    "            \n",
    "    def W(self, n_nodes1, n_nodes2):\n",
    "        \n",
    "        \"\"\"\n",
    "        重みの初期化\n",
    "        \n",
    "        Parameters\n",
    "        ----------\n",
    "        n_nodes1 : int\n",
    "          前の層のノード数\n",
    "        n_nodes2 : int\n",
    "          後の層のノード数\n",
    "          \n",
    "        Returns\n",
    "        ----------\n",
    "        W :float\n",
    "            重みの初期値\n",
    "            \n",
    "        \"\"\"\n",
    "        self.n_nodes1 = n_nodes1\n",
    "        self.sigma = 1 / np.sqrt(n_nodes1)\n",
    "        W = self.sigma * np.random.randn(n_nodes1, n_nodes2)\n",
    "        \n",
    "        return W\n",
    "    \n",
    "    \n",
    "    def B(self, n_nodes2):\n",
    "        \n",
    "        \"\"\"\n",
    "        バイアスの初期化\n",
    "        \n",
    "        Parameters\n",
    "        ----------\n",
    "        n_nodes2 : int\n",
    "          後の層のノード数\n",
    "          \n",
    "        Returns\n",
    "        ----------\n",
    "        B :float\n",
    "            バイアスの初期値\n",
    "            \n",
    "        \"\"\"\n",
    "        \n",
    "        self.sigma = 1 / np.sqrt(self.n_nodes1)\n",
    "        B = self.sigma * np.random.randn(n_nodes2)\n",
    "        \n",
    "        return B"
   ]
  },
  {
   "cell_type": "code",
   "execution_count": 11,
   "metadata": {},
   "outputs": [],
   "source": [
    "class HeInitializer:\n",
    "    \n",
    "    \"\"\"\n",
    "    Heの初期値\n",
    "      \n",
    "    \"\"\"\n",
    "    def __init__(self, sigma):\n",
    "        \n",
    "        self.sigma = sigma\n",
    "        \n",
    "    \n",
    "    \n",
    "    \n",
    "    def W(self, n_nodes1, n_nodes2):\n",
    "        \n",
    "        \"\"\"\n",
    "        重みの初期化\n",
    "        \n",
    "        Parameters\n",
    "        ----------\n",
    "        n_nodes1 : int\n",
    "          前の層のノード数\n",
    "        n_nodes2 : int\n",
    "          後の層のノード数\n",
    "          \n",
    "        Returns\n",
    "        ----------\n",
    "        W :float\n",
    "            重みの初期値\n",
    "            \n",
    "        \"\"\"\n",
    "        self.n_nodes1 = n_nodes1\n",
    "        sigma = np.sqrt(2 / n_nodes1)\n",
    "        W = sigma * np.random.randn(n_nodes1, n_nodes2)\n",
    "        \n",
    "        return W\n",
    "    \n",
    "    \n",
    "    def B(self, n_nodes2):\n",
    "        \n",
    "        \"\"\"\n",
    "        バイアスの初期化\n",
    "        \n",
    "        Parameters\n",
    "        ----------\n",
    "        n_nodes2 : int\n",
    "          後の層のノード数\n",
    "          \n",
    "        Returns\n",
    "        ----------\n",
    "        B :float\n",
    "            バイアスの初期値\n",
    "            \n",
    "        \"\"\"\n",
    "        \n",
    "        sigma = np.sqrt(2 / self.n_nodes1)\n",
    "        B = sigma * np.random.randn(n_nodes2)\n",
    "        \n",
    "        return B"
   ]
  },
  {
   "cell_type": "markdown",
   "metadata": {},
   "source": [
    "## 【問題8】クラスの完成"
   ]
  },
  {
   "cell_type": "markdown",
   "metadata": {},
   "source": [
    "# Trainer"
   ]
  },
  {
   "cell_type": "code",
   "execution_count": 12,
   "metadata": {},
   "outputs": [],
   "source": [
    "class ScratchDeepNeuralNetrowkClassifier():\n",
    "    \n",
    "    \"\"\"\n",
    "    任意の構成で学習と推定が行えるDNNクラス\n",
    "    \n",
    "    \"\"\"\n",
    "    \n",
    "    def __init__(self, initializer, optimizer, activator1, activator2, lr = 0.01,  batch_size = 20, n_features = 784, n_nodes1 = 400, n_nodes2 = 200, n_output = 10, sigma=0.01, n_epochs=20, verbose = True):\n",
    "        \n",
    "        self.verbose = verbose\n",
    "        \n",
    "        self.n_epochs = n_epochs\n",
    "        self.batch_size = batch_size\n",
    "        self.n_features = n_features\n",
    "        self.n_nodes1 = n_nodes1\n",
    "        self.n_nodes2 = n_nodes2\n",
    "        self.n_output = n_output\n",
    "        \n",
    "        self.FC1 = None\n",
    "        self.FC2 = None\n",
    "        self.FC3 = None\n",
    "        \n",
    "        self.initializer = initializer\n",
    "        self.optimizer = optimizer\n",
    "        self.lr = lr\n",
    "        \n",
    "        self.activator1 = activator1\n",
    "        self.activator2 = activator2   \n",
    "        \n",
    "        self.sigma = sigma\n",
    "        \n",
    "        self.loss = None\n",
    "        self.val_loss = None\n",
    "        \n",
    "        self.loss_hist = []\n",
    "        self.val_loss_hist = []\n",
    "        \n",
    "        \n",
    "    # 訓練時に１エポック分の処理を行う関数\n",
    "    def forward_and_backward(self, X, y):\n",
    "        \n",
    "        # one-hot変換\n",
    "        Y = np.identity(10)[y]\n",
    "        \n",
    "        \n",
    "        # サンプルコード2 : フォワード\n",
    "        A1 = self.FC1.forward(X)\n",
    "        #print(A1.shape)\n",
    "        \n",
    "        Z1 = self.activation1.forward(A1)\n",
    "        #print(Z1.shape)\n",
    "        \n",
    "        A2 = self.FC2.forward(Z1)\n",
    "        #print(A2.shape)\n",
    "        \n",
    "        Z2 = self.activation2.forward(A2)\n",
    "        #print(\"Z2\"+str(Z2.shape))\n",
    "        \n",
    "        A3 = self.FC3.forward(Z2)\n",
    "        #print(\"A3\"+str(A3.shape))\n",
    "        \n",
    "        Z3 = self.activation3.forward(A3)        \n",
    "        #print(\"Z3\"+str(Z3.shape))\n",
    "        \n",
    "    \n",
    "        # サンプルコード3 : バックワード\n",
    "        dA3, self.loss = self.activation3.backward(Z3, Y) # 交差エントロピー誤差とソフトマックスを合わせている\n",
    "        #print(\"dA3\"+str(dA3.shape))\n",
    "            \n",
    "        dZ2 = self.FC3.backward(dA3)\n",
    "        #print(\"dZ2\"+str(dZ2.shape))\n",
    "        \n",
    "        dA2 = self.activation2.backward(dZ2)\n",
    "        #print(\"dA2\"+str(dA2.shape))\n",
    "        \n",
    "        dZ1 = self.FC2.backward(dA2)\n",
    "        #print(\"dZ1\"+str(dZ1.shape))\n",
    "        \n",
    "        dA1 = self.activation1.backward(dZ1)\n",
    "        #print(\"dA1\"+str(dA1.shape))\n",
    "        \n",
    "        dZ0 = self.FC1.backward(dA1) # dZ0は使用しない\n",
    "        #print(dZ0.shape)\n",
    "    \n",
    "    \n",
    "    # このエポックで更新した重みを使って検証する関数\n",
    "    def forward_with_loss(self, X, y):\n",
    "        \n",
    "        Y = np.identity(10)[y]\n",
    "        \n",
    "        A1 = self.FC1.forward(X)\n",
    "        Z1 = self.activation1.forward(A1)\n",
    "        A2 = self.FC2.forward(Z1)\n",
    "        Z2 = self.activation2.forward(A2)\n",
    "        A3 = self.FC3.forward(Z2)\n",
    "        Z3 = self.activation3.forward(A3)\n",
    "        \n",
    "        dA3, self.val_loss = self.activation3.backward(Z3, Y) \n",
    "        \n",
    "    \n",
    "    def fit(self, X, y, X_val=None, y_val=None):\n",
    "        \n",
    "        \"\"\"\n",
    "        self.sigma : ガウス分布の標準偏差\n",
    "        self.lr : 学習率\n",
    "        self.n_nodes1 : 1層目のノード数\n",
    "        self.n_nodes2 : 2層目のノード数\n",
    "        self.n_output : 出力層のノード数\n",
    "        \"\"\"\n",
    "        \n",
    "        # 最初に全ノードを生成\n",
    "        self.FC1 = FC(self.n_features, self.n_nodes1, self.initializer(self.sigma), self.optimizer(self.lr))\n",
    "        self.activation1 = self.activator1\n",
    "    \n",
    "        self.FC2 = FC(self.n_nodes1, self.n_nodes2, self.initializer(self.sigma), self.optimizer(self.lr))\n",
    "        self.activation2 = self.activator2\n",
    "        \n",
    "        self.FC3 = FC(self.n_nodes2, self.n_output, self.initializer(self.sigma), self.optimizer(self.lr))\n",
    "        self.activation3 = Softmax()\n",
    "        \n",
    "        # 訓練データのミニバッチを生成\n",
    "        get_mini_batch_train = GetMiniBatch(X, y, batch_size=self.batch_size)\n",
    "        \n",
    "        # 検証データのミニバッチを生成\n",
    "        get_mini_batch_val = GetMiniBatch(X_val, y_val, batch_size=self.batch_size)\n",
    "        \n",
    "        for epoch in range(self.n_epochs):\n",
    "            \n",
    "            for mini_X_train, mini_y_train in get_mini_batch_train:\n",
    "                \n",
    "                # 順伝播・クロスエントロピー誤差・逆伝播\n",
    "                self.forward_and_backward(mini_X_train, mini_y_train)\n",
    "                \n",
    "            self.loss_hist.append(self.loss)\n",
    "            \n",
    "            # 検証\n",
    "            mini_X_val, mini_y_val = get_mini_batch_val[0]\n",
    "            self.forward_with_loss(mini_X_val, mini_y_val)\n",
    "            self.val_loss_hist.append(self.val_loss)\n",
    "        \n",
    "            \n",
    "            if self.verbose:\n",
    "\n",
    "                print('#'*25)\n",
    "                print('### Epoch %i'%(epoch+1))\n",
    "                print('#'*25)\n",
    "                \n",
    "                print(\"訓練データの損失 : {}\".format(self.loss))\n",
    "                print(\"検証データの損失 : {}\".format(self.val_loss))\n",
    "                \n",
    "                print()\n",
    "                \n",
    "                \n",
    "    \n",
    "    def predict(self, X):\n",
    "        \n",
    "        A1 = self.FC1.forward(X)\n",
    "        Z1 = self.activation1.forward(A1)\n",
    "        A2 = self.FC2.forward(Z1)\n",
    "        Z2 = self.activation2.forward(A2)\n",
    "        A3 = self.FC3.forward(Z2)\n",
    "        Z3 = self.activation3.forward(A3)\n",
    "        \n",
    "        pred = Z3.argmax(axis=1)\n",
    "        return pred"
   ]
  },
  {
   "cell_type": "markdown",
   "metadata": {},
   "source": [
    "## 【問題3】最適化手法のクラス化"
   ]
  },
  {
   "cell_type": "markdown",
   "metadata": {},
   "source": [
    "# Optimizer"
   ]
  },
  {
   "cell_type": "code",
   "execution_count": 13,
   "metadata": {},
   "outputs": [],
   "source": [
    "class SGD():\n",
    "    \n",
    "    \"\"\"\n",
    "    確率的勾配降下法\n",
    "    \n",
    "    Parameters\n",
    "    ----------\n",
    "    lr : 学習率\n",
    "    \n",
    "    \"\"\"\n",
    "    \n",
    "    def __init__(self, lr):\n",
    "        \n",
    "        self.lr = lr\n",
    "        \n",
    "        \n",
    "    def update(self, layer):\n",
    "        \n",
    "        \"\"\"\n",
    "        ある層の重みやバイアスの更新\n",
    "        \n",
    "        Parameters\n",
    "        ----------\n",
    "        layer : 更新前の層のインスタンス\n",
    "        \n",
    "        \"\"\"\n",
    "\n",
    "        layer.W -= self.lr * layer.dW\n",
    "        layer.B -= self.lr * layer.dB"
   ]
  },
  {
   "cell_type": "markdown",
   "metadata": {},
   "source": [
    "## 【問題7】最適化手法"
   ]
  },
  {
   "cell_type": "code",
   "execution_count": 14,
   "metadata": {},
   "outputs": [],
   "source": [
    "class AdaGrad():\n",
    "    \n",
    "    \"\"\"\n",
    "    確率的勾配降下法\n",
    "    \n",
    "    Parameters\n",
    "    ----------\n",
    "    lr : 学習率\n",
    "    \n",
    "    \"\"\"\n",
    "    \n",
    "    def __init__(self, lr):\n",
    "        \n",
    "        self.lr = lr\n",
    "        self.hW = 1.\n",
    "        self.hB = 1.\n",
    "        \n",
    "    def update(self, layer):\n",
    "        \n",
    "        \"\"\"\n",
    "        ある層の重みやバイアスの更新\n",
    "        \n",
    "        Parameters\n",
    "        ----------\n",
    "        layer : 更新前の層のインスタンス\n",
    "        \n",
    "        \"\"\"\n",
    "        \n",
    "        self.hW += np.mean(layer.dW, axis=0)**2\n",
    "        self.hB += ((np.mean(layer.dB, axis=0))**2).sum(axis=0)\n",
    "        \n",
    "        layer.W -= (self.lr / np.sqrt(self.hW)) * layer.dW\n",
    "        layer.B -= (self.lr / np.sqrt(self.hB)) * layer.dB"
   ]
  },
  {
   "cell_type": "markdown",
   "metadata": {},
   "source": [
    "# Utility"
   ]
  },
  {
   "cell_type": "code",
   "execution_count": 15,
   "metadata": {},
   "outputs": [],
   "source": [
    "class GetMiniBatch:\n",
    "    \n",
    "    \"\"\"\n",
    "    ミニバッチを取得するイテレータ\n",
    "    \n",
    "    Parameters\n",
    "    ----------\n",
    "    X : 次の形のndarray, shape (n_samples, n_features)\n",
    "      訓練データ\n",
    "    y : 次の形のndarray, shape (n_samples, 1)\n",
    "      正解値\n",
    "    batch_size : int\n",
    "      バッチサイズ\n",
    "    seed : int\n",
    "      NumPyの乱数のシード\n",
    "      \n",
    "    \"\"\"\n",
    "    \n",
    "    def __init__(self, X, y, batch_size = 20, seed=0):\n",
    "        \n",
    "        self.batch_size = batch_size\n",
    "        np.random.seed(seed)\n",
    "        shuffle_index = np.random.permutation(np.arange(X.shape[0]))\n",
    "        self._X = X[shuffle_index]\n",
    "        self._y = y[shuffle_index]\n",
    "        self._stop = np.ceil(X.shape[0]/self.batch_size).astype(np.int)\n",
    "        \n",
    "        \n",
    "    def __len__(self):\n",
    "        return self._stop\n",
    "    \n",
    "    \n",
    "    def __getitem__(self,item):\n",
    "        p0 = item*self.batch_size\n",
    "        p1 = item*self.batch_size + self.batch_size\n",
    "        return self._X[p0:p1], self._y[p0:p1]\n",
    "    \n",
    "    \n",
    "    def __iter__(self):\n",
    "        self._counter = 0\n",
    "        return self\n",
    "    \n",
    "    \n",
    "    def __next__(self):\n",
    "        \n",
    "        if self._counter >= self._stop:\n",
    "            raise StopIteration()\n",
    "            \n",
    "        p0 = self._counter*self.batch_size\n",
    "        p1 = self._counter*self.batch_size + self.batch_size\n",
    "        self._counter += 1\n",
    "        return self._X[p0:p1], self._y[p0:p1]"
   ]
  },
  {
   "cell_type": "markdown",
   "metadata": {},
   "source": [
    "## 【問題9】学習と推定"
   ]
  },
  {
   "cell_type": "markdown",
   "metadata": {},
   "source": [
    "* 学習率を固定しての比較"
   ]
  },
  {
   "cell_type": "markdown",
   "metadata": {},
   "source": [
    "### 9-1. SimpleInitializer, SGD, Tanh"
   ]
  },
  {
   "cell_type": "code",
   "execution_count": 26,
   "metadata": {},
   "outputs": [],
   "source": [
    "dnn = ScratchDeepNeuralNetrowkClassifier(initializer=SimpleInitializer,\n",
    "                                                                    optimizer = SGD,\n",
    "                                                                    lr=0.001, \n",
    "                                                                    sigma=0.01, \n",
    "                                                                    activator1=Tanh(), \n",
    "                                                                    activator2=Tanh(), \n",
    "                                                                    n_epochs=20,\n",
    "                                                                    verbose = True\n",
    "                                                                    )"
   ]
  },
  {
   "cell_type": "code",
   "execution_count": 27,
   "metadata": {},
   "outputs": [
    {
     "name": "stdout",
     "output_type": "stream",
     "text": [
      "#########################\n",
      "### Epoch 1\n",
      "#########################\n",
      "訓練データの損失 : 2.298065265680591\n",
      "検証データの損失 : 2.296691204426268\n",
      "\n",
      "#########################\n",
      "### Epoch 2\n",
      "#########################\n",
      "訓練データの損失 : 2.2914757343360774\n",
      "検証データの損失 : 2.2863892406807027\n",
      "\n",
      "#########################\n",
      "### Epoch 3\n",
      "#########################\n",
      "訓練データの損失 : 2.2694194049314964\n",
      "検証データの損失 : 2.2663715891896796\n",
      "\n",
      "#########################\n",
      "### Epoch 4\n",
      "#########################\n",
      "訓練データの損失 : 2.1674769878292275\n",
      "検証データの損失 : 2.199790120840123\n",
      "\n",
      "#########################\n",
      "### Epoch 5\n",
      "#########################\n",
      "訓練データの損失 : 1.921051085571674\n",
      "検証データの損失 : 1.8203078780245339\n",
      "\n",
      "#########################\n",
      "### Epoch 6\n",
      "#########################\n",
      "訓練データの損失 : 1.7925766111812016\n",
      "検証データの損失 : 1.8201216107844247\n",
      "\n",
      "#########################\n",
      "### Epoch 7\n",
      "#########################\n",
      "訓練データの損失 : 1.5315528822785873\n",
      "検証データの損失 : 1.4902352439239719\n",
      "\n",
      "#########################\n",
      "### Epoch 8\n",
      "#########################\n",
      "訓練データの損失 : 1.5437039006965125\n",
      "検証データの損失 : 1.4005303375296547\n",
      "\n",
      "#########################\n",
      "### Epoch 9\n",
      "#########################\n",
      "訓練データの損失 : 1.6132401575375588\n",
      "検証データの損失 : 1.2529270647026194\n",
      "\n",
      "#########################\n",
      "### Epoch 10\n",
      "#########################\n",
      "訓練データの損失 : 1.559799329968757\n",
      "検証データの損失 : 1.1078608467499982\n",
      "\n",
      "#########################\n",
      "### Epoch 11\n",
      "#########################\n",
      "訓練データの損失 : 1.470304516174363\n",
      "検証データの損失 : 1.1111750626702186\n",
      "\n",
      "#########################\n",
      "### Epoch 12\n",
      "#########################\n",
      "訓練データの損失 : 1.3558113203643274\n",
      "検証データの損失 : 1.1168005466591546\n",
      "\n",
      "#########################\n",
      "### Epoch 13\n",
      "#########################\n",
      "訓練データの損失 : 1.3095964052277815\n",
      "検証データの損失 : 1.050917199839881\n",
      "\n",
      "#########################\n",
      "### Epoch 14\n",
      "#########################\n",
      "訓練データの損失 : 1.220798803872086\n",
      "検証データの損失 : 0.9769646060513459\n",
      "\n",
      "#########################\n",
      "### Epoch 15\n",
      "#########################\n",
      "訓練データの損失 : 1.1550238461734774\n",
      "検証データの損失 : 0.9605742902040662\n",
      "\n",
      "#########################\n",
      "### Epoch 16\n",
      "#########################\n",
      "訓練データの損失 : 1.0902243112831815\n",
      "検証データの損失 : 0.9574949306832246\n",
      "\n",
      "#########################\n",
      "### Epoch 17\n",
      "#########################\n",
      "訓練データの損失 : 0.9687721833882357\n",
      "検証データの損失 : 0.9656850190487638\n",
      "\n",
      "#########################\n",
      "### Epoch 18\n",
      "#########################\n",
      "訓練データの損失 : 0.9237788681049579\n",
      "検証データの損失 : 0.9275123855684143\n",
      "\n",
      "#########################\n",
      "### Epoch 19\n",
      "#########################\n",
      "訓練データの損失 : 0.9178128695184039\n",
      "検証データの損失 : 0.9296468910668292\n",
      "\n",
      "#########################\n",
      "### Epoch 20\n",
      "#########################\n",
      "訓練データの損失 : 0.9008701026302376\n",
      "検証データの損失 : 0.9403571109319158\n",
      "\n"
     ]
    }
   ],
   "source": [
    "dnn.fit(X_train, y_train, X_val, y_val)"
   ]
  },
  {
   "cell_type": "code",
   "execution_count": 28,
   "metadata": {},
   "outputs": [
    {
     "data": {
      "image/png": "[encoded data removed]",
      "text/plain": [
       "<Figure size 432x288 with 1 Axes>"
      ]
     },
     "metadata": {
      "needs_background": "light"
     },
     "output_type": "display_data"
    }
   ],
   "source": [
    "# plot\n",
    "\n",
    "import matplotlib.pyplot as plt\n",
    "\n",
    "plt.plot(np.arange(1, dnn.n_epochs+1), dnn.loss_hist)\n",
    "plt.plot(np.arange(1, dnn.n_epochs+1), dnn.val_loss_hist)\n",
    "\n",
    "plt.show()"
   ]
  },
  {
   "cell_type": "code",
   "execution_count": 29,
   "metadata": {},
   "outputs": [
    {
     "data": {
      "text/plain": [
       "array([7, 2, 1, ..., 9, 9, 6])"
      ]
     },
     "execution_count": 29,
     "metadata": {},
     "output_type": "execute_result"
    }
   ],
   "source": [
    "# predict\n",
    "\n",
    "y_pred = dnn.predict(X_test)\n",
    "y_pred"
   ]
  },
  {
   "cell_type": "code",
   "execution_count": 30,
   "metadata": {},
   "outputs": [
    {
     "data": {
      "text/plain": [
       "0.6457"
      ]
     },
     "execution_count": 30,
     "metadata": {},
     "output_type": "execute_result"
    }
   ],
   "source": [
    "# Accuracy\n",
    "\n",
    "from sklearn.metrics import accuracy_score\n",
    "\n",
    "accuracy = accuracy_score(y_test, y_pred)\n",
    "accuracy"
   ]
  },
  {
   "cell_type": "markdown",
   "metadata": {},
   "source": [
    "### 9-2. XavierInitializer, SGD, Tanh"
   ]
  },
  {
   "cell_type": "code",
   "execution_count": 32,
   "metadata": {},
   "outputs": [],
   "source": [
    "dnn2 = ScratchDeepNeuralNetrowkClassifier(initializer=XavierInitializer,\n",
    "                                                                    optimizer = SGD,\n",
    "                                                                    lr=0.001, \n",
    "                                                                    sigma=0.01, \n",
    "                                                                    activator1=Tanh(), \n",
    "                                                                    activator2=Tanh(), \n",
    "                                                                    n_epochs=20,\n",
    "                                                                    verbose = True\n",
    "                                                                    )"
   ]
  },
  {
   "cell_type": "code",
   "execution_count": 34,
   "metadata": {},
   "outputs": [
    {
     "name": "stdout",
     "output_type": "stream",
     "text": [
      "#########################\n",
      "### Epoch 1\n",
      "#########################\n",
      "訓練データの損失 : 2.1172065281882477\n",
      "検証データの損失 : 1.9459841227905634\n",
      "\n",
      "#########################\n",
      "### Epoch 2\n",
      "#########################\n",
      "訓練データの損失 : 1.8372932548174625\n",
      "検証データの損失 : 1.5017392536126772\n",
      "\n",
      "#########################\n",
      "### Epoch 3\n",
      "#########################\n",
      "訓練データの損失 : 1.6420348191815606\n",
      "検証データの損失 : 1.2764429472103598\n",
      "\n",
      "#########################\n",
      "### Epoch 4\n",
      "#########################\n",
      "訓練データの損失 : 1.35621703346212\n",
      "検証データの損失 : 1.2175922808968846\n",
      "\n",
      "#########################\n",
      "### Epoch 5\n",
      "#########################\n",
      "訓練データの損失 : 1.2065515804984908\n",
      "検証データの損失 : 1.207274777097566\n",
      "\n",
      "#########################\n",
      "### Epoch 6\n",
      "#########################\n",
      "訓練データの損失 : 1.2752287467098367\n",
      "検証データの損失 : 1.1648702238758846\n",
      "\n",
      "#########################\n",
      "### Epoch 7\n",
      "#########################\n",
      "訓練データの損失 : 1.2468121225395403\n",
      "検証データの損失 : 1.1584465316614743\n",
      "\n",
      "#########################\n",
      "### Epoch 8\n",
      "#########################\n",
      "訓練データの損失 : 1.2386195191243379\n",
      "検証データの損失 : 1.0528052750891557\n",
      "\n"
     ]
    },
    {
     "name": "stderr",
     "output_type": "stream",
     "text": [
      "<ipython-input-6-2280f3b3b1aa>:5: RuntimeWarning: overflow encountered in exp\n",
      "  self.Z = (np.exp(A) - np.exp(-A)) / (np.exp(A) + np.exp(-A))\n",
      "<ipython-input-6-2280f3b3b1aa>:5: RuntimeWarning: invalid value encountered in true_divide\n",
      "  self.Z = (np.exp(A) - np.exp(-A)) / (np.exp(A) + np.exp(-A))\n"
     ]
    },
    {
     "name": "stdout",
     "output_type": "stream",
     "text": [
      "#########################\n",
      "### Epoch 9\n",
      "#########################\n",
      "訓練データの損失 : nan\n",
      "検証データの損失 : nan\n",
      "\n",
      "#########################\n",
      "### Epoch 10\n",
      "#########################\n",
      "訓練データの損失 : nan\n",
      "検証データの損失 : nan\n",
      "\n",
      "#########################\n",
      "### Epoch 11\n",
      "#########################\n",
      "訓練データの損失 : nan\n",
      "検証データの損失 : nan\n",
      "\n",
      "#########################\n",
      "### Epoch 12\n",
      "#########################\n",
      "訓練データの損失 : nan\n",
      "検証データの損失 : nan\n",
      "\n",
      "#########################\n",
      "### Epoch 13\n",
      "#########################\n",
      "訓練データの損失 : nan\n",
      "検証データの損失 : nan\n",
      "\n",
      "#########################\n",
      "### Epoch 14\n",
      "#########################\n",
      "訓練データの損失 : nan\n",
      "検証データの損失 : nan\n",
      "\n",
      "#########################\n",
      "### Epoch 15\n",
      "#########################\n",
      "訓練データの損失 : nan\n",
      "検証データの損失 : nan\n",
      "\n",
      "#########################\n",
      "### Epoch 16\n",
      "#########################\n",
      "訓練データの損失 : nan\n",
      "検証データの損失 : nan\n",
      "\n",
      "#########################\n",
      "### Epoch 17\n",
      "#########################\n",
      "訓練データの損失 : nan\n",
      "検証データの損失 : nan\n",
      "\n",
      "#########################\n",
      "### Epoch 18\n",
      "#########################\n",
      "訓練データの損失 : nan\n",
      "検証データの損失 : nan\n",
      "\n",
      "#########################\n",
      "### Epoch 19\n",
      "#########################\n",
      "訓練データの損失 : nan\n",
      "検証データの損失 : nan\n",
      "\n",
      "#########################\n",
      "### Epoch 20\n",
      "#########################\n",
      "訓練データの損失 : nan\n",
      "検証データの損失 : nan\n",
      "\n"
     ]
    }
   ],
   "source": [
    "dnn2.fit(X_train, y_train, X_val, y_val)"
   ]
  },
  {
   "cell_type": "code",
   "execution_count": 35,
   "metadata": {},
   "outputs": [
    {
     "data": {
      "image/png": "[encoded data removed]",
      "text/plain": [
       "<Figure size 432x288 with 1 Axes>"
      ]
     },
     "metadata": {
      "needs_background": "light"
     },
     "output_type": "display_data"
    }
   ],
   "source": [
    "# plot\n",
    "\n",
    "import matplotlib.pyplot as plt\n",
    "\n",
    "plt.plot(np.arange(1, dnn2.n_epochs+1), dnn2.loss_hist)\n",
    "plt.plot(np.arange(1, dnn2.n_epochs+1), dnn2.val_loss_hist)\n",
    "\n",
    "plt.show()"
   ]
  },
  {
   "cell_type": "code",
   "execution_count": 36,
   "metadata": {},
   "outputs": [
    {
     "data": {
      "text/plain": [
       "array([0, 0, 0, ..., 0, 0, 0])"
      ]
     },
     "execution_count": 36,
     "metadata": {},
     "output_type": "execute_result"
    }
   ],
   "source": [
    "# predict\n",
    "\n",
    "y_pred2 = dnn2.predict(X_test)\n",
    "y_pred2"
   ]
  },
  {
   "cell_type": "code",
   "execution_count": 37,
   "metadata": {},
   "outputs": [
    {
     "data": {
      "text/plain": [
       "0.098"
      ]
     },
     "execution_count": 37,
     "metadata": {},
     "output_type": "execute_result"
    }
   ],
   "source": [
    "# Accuracy\n",
    "\n",
    "from sklearn.metrics import accuracy_score\n",
    "\n",
    "accuracy2 = accuracy_score(y_test, y_pred2)\n",
    "accuracy2"
   ]
  },
  {
   "cell_type": "markdown",
   "metadata": {},
   "source": [
    "### 9-3. XavierInitializer, AdaGrad, Tanh"
   ]
  },
  {
   "cell_type": "code",
   "execution_count": 39,
   "metadata": {},
   "outputs": [],
   "source": [
    "dnn3 = ScratchDeepNeuralNetrowkClassifier(initializer=XavierInitializer,\n",
    "                                                                    optimizer = AdaGrad,\n",
    "                                                                    lr=0.001, \n",
    "                                                                    sigma=0.01, \n",
    "                                                                    activator1=Tanh(), \n",
    "                                                                    activator2=Tanh(), \n",
    "                                                                    n_epochs=20,\n",
    "                                                                    verbose = True\n",
    "                                                                    )"
   ]
  },
  {
   "cell_type": "code",
   "execution_count": 40,
   "metadata": {},
   "outputs": [
    {
     "name": "stdout",
     "output_type": "stream",
     "text": [
      "#########################\n",
      "### Epoch 1\n",
      "#########################\n",
      "訓練データの損失 : 2.1003482947921066\n",
      "検証データの損失 : 1.9295988524028036\n",
      "\n",
      "#########################\n",
      "### Epoch 2\n",
      "#########################\n",
      "訓練データの損失 : 2.0220632657398854\n",
      "検証データの損失 : 1.8149407326838265\n",
      "\n",
      "#########################\n",
      "### Epoch 3\n",
      "#########################\n",
      "訓練データの損失 : 1.93305602797238\n",
      "検証データの損失 : 1.660043235086328\n",
      "\n",
      "#########################\n",
      "### Epoch 4\n",
      "#########################\n",
      "訓練データの損失 : 1.8900397855404272\n",
      "検証データの損失 : 1.5395360710747377\n",
      "\n",
      "#########################\n",
      "### Epoch 5\n",
      "#########################\n",
      "訓練データの損失 : 1.866016451458671\n",
      "検証データの損失 : 1.4588040738169812\n",
      "\n",
      "#########################\n",
      "### Epoch 6\n",
      "#########################\n",
      "訓練データの損失 : 1.8445186684809116\n",
      "検証データの損失 : 1.4183260897604317\n",
      "\n",
      "#########################\n",
      "### Epoch 7\n",
      "#########################\n",
      "訓練データの損失 : 1.8233766301357597\n",
      "検証データの損失 : 1.390566717639557\n",
      "\n",
      "#########################\n",
      "### Epoch 8\n",
      "#########################\n",
      "訓練データの損失 : 1.8013081909631339\n",
      "検証データの損失 : 1.3657514285372088\n",
      "\n",
      "#########################\n",
      "### Epoch 9\n",
      "#########################\n",
      "訓練データの損失 : 1.7765699985615484\n",
      "検証データの損失 : 1.342682335828163\n",
      "\n",
      "#########################\n",
      "### Epoch 10\n",
      "#########################\n",
      "訓練データの損失 : 1.7480735497317323\n",
      "検証データの損失 : 1.3220725658994708\n",
      "\n",
      "#########################\n",
      "### Epoch 11\n",
      "#########################\n",
      "訓練データの損失 : 1.7158953244523882\n",
      "検証データの損失 : 1.3039418059824937\n",
      "\n",
      "#########################\n",
      "### Epoch 12\n",
      "#########################\n",
      "訓練データの損失 : 1.6797834263482527\n",
      "検証データの損失 : 1.285221757899949\n",
      "\n",
      "#########################\n",
      "### Epoch 13\n",
      "#########################\n",
      "訓練データの損失 : 1.6315910121190114\n",
      "検証データの損失 : 1.260156839389499\n",
      "\n",
      "#########################\n",
      "### Epoch 14\n",
      "#########################\n",
      "訓練データの損失 : 1.5910748175270846\n",
      "検証データの損失 : 1.2532723645624342\n",
      "\n",
      "#########################\n",
      "### Epoch 15\n",
      "#########################\n",
      "訓練データの損失 : 1.557476869697212\n",
      "検証データの損失 : 1.2478824351895965\n",
      "\n",
      "#########################\n",
      "### Epoch 16\n",
      "#########################\n",
      "訓練データの損失 : 1.526278153383402\n",
      "検証データの損失 : 1.2440610048568737\n",
      "\n",
      "#########################\n",
      "### Epoch 17\n",
      "#########################\n",
      "訓練データの損失 : 1.4974645008416232\n",
      "検証データの損失 : 1.2412069284274847\n",
      "\n",
      "#########################\n",
      "### Epoch 18\n",
      "#########################\n",
      "訓練データの損失 : 1.4710854080951974\n",
      "検証データの損失 : 1.2389334818460664\n",
      "\n",
      "#########################\n",
      "### Epoch 19\n",
      "#########################\n",
      "訓練データの損失 : 1.4468941138750242\n",
      "検証データの損失 : 1.2370579155071622\n",
      "\n",
      "#########################\n",
      "### Epoch 20\n",
      "#########################\n",
      "訓練データの損失 : 1.4244795356338258\n",
      "検証データの損失 : 1.2354734767685218\n",
      "\n"
     ]
    }
   ],
   "source": [
    "dnn3.fit(X_train, y_train, X_val, y_val)"
   ]
  },
  {
   "cell_type": "code",
   "execution_count": 41,
   "metadata": {},
   "outputs": [
    {
     "data": {
      "image/png": "[encoded data removed]",
      "text/plain": [
       "<Figure size 432x288 with 1 Axes>"
      ]
     },
     "metadata": {
      "needs_background": "light"
     },
     "output_type": "display_data"
    }
   ],
   "source": [
    "# plot\n",
    "\n",
    "import matplotlib.pyplot as plt\n",
    "\n",
    "plt.plot(np.arange(1, dnn3.n_epochs+1), dnn3.loss_hist)\n",
    "plt.plot(np.arange(1, dnn3.n_epochs+1), dnn3.val_loss_hist)\n",
    "\n",
    "plt.show()"
   ]
  },
  {
   "cell_type": "code",
   "execution_count": 42,
   "metadata": {},
   "outputs": [
    {
     "data": {
      "text/plain": [
       "array([7, 2, 1, ..., 8, 8, 6])"
      ]
     },
     "execution_count": 42,
     "metadata": {},
     "output_type": "execute_result"
    }
   ],
   "source": [
    "# predict\n",
    "\n",
    "y_pred3 = dnn3.predict(X_test)\n",
    "y_pred3"
   ]
  },
  {
   "cell_type": "code",
   "execution_count": 43,
   "metadata": {},
   "outputs": [
    {
     "data": {
      "text/plain": [
       "0.5413"
      ]
     },
     "execution_count": 43,
     "metadata": {},
     "output_type": "execute_result"
    }
   ],
   "source": [
    "# Accuracy\n",
    "\n",
    "from sklearn.metrics import accuracy_score\n",
    "\n",
    "accuracy3 = accuracy_score(y_test, y_pred3)\n",
    "accuracy3"
   ]
  },
  {
   "cell_type": "markdown",
   "metadata": {},
   "source": [
    "### 9-4. HeInitializer, SGD, ReLU"
   ]
  },
  {
   "cell_type": "code",
   "execution_count": 44,
   "metadata": {},
   "outputs": [],
   "source": [
    "dnn4 = ScratchDeepNeuralNetrowkClassifier(initializer=HeInitializer,\n",
    "                                                                    optimizer = SGD,\n",
    "                                                                    lr=0.001, \n",
    "                                                                    sigma=0.01, \n",
    "                                                                    activator1=ReLU(), \n",
    "                                                                    activator2=ReLU(), \n",
    "                                                                    n_epochs=20,\n",
    "                                                                    verbose = True\n",
    "                                                                    )"
   ]
  },
  {
   "cell_type": "code",
   "execution_count": 45,
   "metadata": {},
   "outputs": [
    {
     "name": "stdout",
     "output_type": "stream",
     "text": [
      "#########################\n",
      "### Epoch 1\n",
      "#########################\n",
      "訓練データの損失 : 0.7930167396968935\n",
      "検証データの損失 : 0.9487096179195028\n",
      "\n",
      "#########################\n",
      "### Epoch 2\n",
      "#########################\n",
      "訓練データの損失 : 0.5126468571817057\n",
      "検証データの損失 : 0.6082616690020413\n",
      "\n",
      "#########################\n",
      "### Epoch 3\n",
      "#########################\n",
      "訓練データの損失 : 0.44379824790214323\n",
      "検証データの損失 : 0.47054744260750925\n",
      "\n",
      "#########################\n",
      "### Epoch 4\n",
      "#########################\n",
      "訓練データの損失 : 0.4084191865719539\n",
      "検証データの損失 : 0.3876363821085037\n",
      "\n",
      "#########################\n",
      "### Epoch 5\n",
      "#########################\n",
      "訓練データの損失 : 0.38492047904571036\n",
      "検証データの損失 : 0.33158078890131115\n",
      "\n",
      "#########################\n",
      "### Epoch 6\n",
      "#########################\n",
      "訓練データの損失 : 0.36515624518762085\n",
      "検証データの損失 : 0.29132796820880924\n",
      "\n",
      "#########################\n",
      "### Epoch 7\n",
      "#########################\n",
      "訓練データの損失 : 0.34783586454048077\n",
      "検証データの損失 : 0.26032974039866125\n",
      "\n",
      "#########################\n",
      "### Epoch 8\n",
      "#########################\n",
      "訓練データの損失 : 0.33234305312369783\n",
      "検証データの損失 : 0.23616871249336313\n",
      "\n",
      "#########################\n",
      "### Epoch 9\n",
      "#########################\n",
      "訓練データの損失 : 0.3184783332980891\n",
      "検証データの損失 : 0.21675680339729828\n",
      "\n",
      "#########################\n",
      "### Epoch 10\n",
      "#########################\n",
      "訓練データの損失 : 0.3060162405973794\n",
      "検証データの損失 : 0.2009425504410523\n",
      "\n",
      "#########################\n",
      "### Epoch 11\n",
      "#########################\n",
      "訓練データの損失 : 0.29437678559741276\n",
      "検証データの損失 : 0.1876102517883992\n",
      "\n",
      "#########################\n",
      "### Epoch 12\n",
      "#########################\n",
      "訓練データの損失 : 0.2830392112066179\n",
      "検証データの損失 : 0.17596765589753863\n",
      "\n",
      "#########################\n",
      "### Epoch 13\n",
      "#########################\n",
      "訓練データの損失 : 0.272104637390794\n",
      "検証データの損失 : 0.16585205359695132\n",
      "\n",
      "#########################\n",
      "### Epoch 14\n",
      "#########################\n",
      "訓練データの損失 : 0.26207448771405784\n",
      "検証データの損失 : 0.15707864312687703\n",
      "\n",
      "#########################\n",
      "### Epoch 15\n",
      "#########################\n",
      "訓練データの損失 : 0.253599791170725\n",
      "検証データの損失 : 0.14920888511844294\n",
      "\n",
      "#########################\n",
      "### Epoch 16\n",
      "#########################\n",
      "訓練データの損失 : 0.24531388506359483\n",
      "検証データの損失 : 0.14226411825461127\n",
      "\n",
      "#########################\n",
      "### Epoch 17\n",
      "#########################\n",
      "訓練データの損失 : 0.2376891727563885\n",
      "検証データの損失 : 0.13625215564683274\n",
      "\n",
      "#########################\n",
      "### Epoch 18\n",
      "#########################\n",
      "訓練データの損失 : 0.2302674877584538\n",
      "検証データの損失 : 0.13081145779083422\n",
      "\n",
      "#########################\n",
      "### Epoch 19\n",
      "#########################\n",
      "訓練データの損失 : 0.22231732138554233\n",
      "検証データの損失 : 0.12584327455161942\n",
      "\n",
      "#########################\n",
      "### Epoch 20\n",
      "#########################\n",
      "訓練データの損失 : 0.21400251331932543\n",
      "検証データの損失 : 0.12151508394693937\n",
      "\n"
     ]
    }
   ],
   "source": [
    "dnn4.fit(X_train, y_train, X_val, y_val)"
   ]
  },
  {
   "cell_type": "code",
   "execution_count": 46,
   "metadata": {},
   "outputs": [
    {
     "data": {
      "image/png": "[encoded data removed]",
      "text/plain": [
       "<Figure size 432x288 with 1 Axes>"
      ]
     },
     "metadata": {
      "needs_background": "light"
     },
     "output_type": "display_data"
    }
   ],
   "source": [
    "# plot\n",
    "\n",
    "import matplotlib.pyplot as plt\n",
    "\n",
    "plt.plot(np.arange(1, dnn4.n_epochs+1), dnn4.loss_hist)\n",
    "plt.plot(np.arange(1, dnn4.n_epochs+1), dnn4.val_loss_hist)\n",
    "\n",
    "plt.show()"
   ]
  },
  {
   "cell_type": "code",
   "execution_count": 47,
   "metadata": {},
   "outputs": [
    {
     "data": {
      "text/plain": [
       "array([7, 2, 1, ..., 4, 5, 6])"
      ]
     },
     "execution_count": 47,
     "metadata": {},
     "output_type": "execute_result"
    }
   ],
   "source": [
    "# predict\n",
    "\n",
    "y_pred4 = dnn4.predict(X_test)\n",
    "y_pred4"
   ]
  },
  {
   "cell_type": "code",
   "execution_count": 48,
   "metadata": {},
   "outputs": [
    {
     "data": {
      "text/plain": [
       "0.9413"
      ]
     },
     "execution_count": 48,
     "metadata": {},
     "output_type": "execute_result"
    }
   ],
   "source": [
    "# Accuracy\n",
    "\n",
    "from sklearn.metrics import accuracy_score\n",
    "\n",
    "accuracy4 = accuracy_score(y_test, y_pred4)\n",
    "accuracy4"
   ]
  },
  {
   "cell_type": "markdown",
   "metadata": {},
   "source": [
    "### 9-5. HeInitializer, AdaGrad, ReLU"
   ]
  },
  {
   "cell_type": "code",
   "execution_count": 49,
   "metadata": {},
   "outputs": [],
   "source": [
    "dnn5 = ScratchDeepNeuralNetrowkClassifier(initializer=HeInitializer,\n",
    "                                                                    optimizer = AdaGrad,\n",
    "                                                                    lr=0.001, \n",
    "                                                                    sigma=0.01, \n",
    "                                                                    activator1=ReLU(), \n",
    "                                                                    activator2=ReLU(), \n",
    "                                                                    n_epochs=20,\n",
    "                                                                    verbose = True\n",
    "                                                                    )"
   ]
  },
  {
   "cell_type": "code",
   "execution_count": 50,
   "metadata": {},
   "outputs": [
    {
     "name": "stdout",
     "output_type": "stream",
     "text": [
      "#########################\n",
      "### Epoch 1\n",
      "#########################\n",
      "訓練データの損失 : 0.8076598877049574\n",
      "検証データの損失 : 0.9626269890840191\n",
      "\n",
      "#########################\n",
      "### Epoch 2\n",
      "#########################\n",
      "訓練データの損失 : 0.5243295539007236\n",
      "検証データの損失 : 0.6255525134576061\n",
      "\n",
      "#########################\n",
      "### Epoch 3\n",
      "#########################\n",
      "訓練データの損失 : 0.4547959070462671\n",
      "検証データの損失 : 0.4903074061376736\n",
      "\n",
      "#########################\n",
      "### Epoch 4\n",
      "#########################\n",
      "訓練データの損失 : 0.4208229230992407\n",
      "検証データの損失 : 0.40953650003768577\n",
      "\n",
      "#########################\n",
      "### Epoch 5\n",
      "#########################\n",
      "訓練データの損失 : 0.3990716925026402\n",
      "検証データの損失 : 0.3548903981613364\n",
      "\n",
      "#########################\n",
      "### Epoch 6\n",
      "#########################\n",
      "訓練データの損失 : 0.3822143451310139\n",
      "検証データの損失 : 0.3156328782477468\n",
      "\n",
      "#########################\n",
      "### Epoch 7\n",
      "#########################\n",
      "訓練データの損失 : 0.36626550993281476\n",
      "検証データの損失 : 0.2852795719579182\n",
      "\n",
      "#########################\n",
      "### Epoch 8\n",
      "#########################\n",
      "訓練データの損失 : 0.35178635634275984\n",
      "検証データの損失 : 0.26100198265805463\n",
      "\n",
      "#########################\n",
      "### Epoch 9\n",
      "#########################\n",
      "訓練データの損失 : 0.33958342873376524\n",
      "検証データの損失 : 0.24139662054326133\n",
      "\n",
      "#########################\n",
      "### Epoch 10\n",
      "#########################\n",
      "訓練データの損失 : 0.3287053156171714\n",
      "検証データの損失 : 0.22552474933549033\n",
      "\n",
      "#########################\n",
      "### Epoch 11\n",
      "#########################\n",
      "訓練データの損失 : 0.3183211847330297\n",
      "検証データの損失 : 0.21240348023385938\n",
      "\n",
      "#########################\n",
      "### Epoch 12\n",
      "#########################\n",
      "訓練データの損失 : 0.30845655142649014\n",
      "検証データの損失 : 0.20129786105089953\n",
      "\n",
      "#########################\n",
      "### Epoch 13\n",
      "#########################\n",
      "訓練データの損失 : 0.2995796357480975\n",
      "検証データの損失 : 0.19148702244342058\n",
      "\n",
      "#########################\n",
      "### Epoch 14\n",
      "#########################\n",
      "訓練データの損失 : 0.2910019704877831\n",
      "検証データの損失 : 0.18308286074183647\n",
      "\n",
      "#########################\n",
      "### Epoch 15\n",
      "#########################\n",
      "訓練データの損失 : 0.28321670166739354\n",
      "検証データの損失 : 0.17545300682532208\n",
      "\n",
      "#########################\n",
      "### Epoch 16\n",
      "#########################\n",
      "訓練データの損失 : 0.2761154116688117\n",
      "検証データの損失 : 0.16856493908714276\n",
      "\n",
      "#########################\n",
      "### Epoch 17\n",
      "#########################\n",
      "訓練データの損失 : 0.26975868537511066\n",
      "検証データの損失 : 0.16218015837003555\n",
      "\n",
      "#########################\n",
      "### Epoch 18\n",
      "#########################\n",
      "訓練データの損失 : 0.26340241334736725\n",
      "検証データの損失 : 0.1563028691577242\n",
      "\n",
      "#########################\n",
      "### Epoch 19\n",
      "#########################\n",
      "訓練データの損失 : 0.25705275310629033\n",
      "検証データの損失 : 0.15090884521258882\n",
      "\n",
      "#########################\n",
      "### Epoch 20\n",
      "#########################\n",
      "訓練データの損失 : 0.25104214432910565\n",
      "検証データの損失 : 0.1459762732556392\n",
      "\n"
     ]
    }
   ],
   "source": [
    "dnn5.fit(X_train, y_train, X_val, y_val)"
   ]
  },
  {
   "cell_type": "code",
   "execution_count": 51,
   "metadata": {},
   "outputs": [
    {
     "data": {
      "image/png": "[encoded data removed]",
      "text/plain": [
       "<Figure size 432x288 with 1 Axes>"
      ]
     },
     "metadata": {
      "needs_background": "light"
     },
     "output_type": "display_data"
    }
   ],
   "source": [
    "# plot\n",
    "\n",
    "import matplotlib.pyplot as plt\n",
    "\n",
    "plt.plot(np.arange(1, dnn5.n_epochs+1), dnn5.loss_hist)\n",
    "plt.plot(np.arange(1, dnn5.n_epochs+1), dnn5.val_loss_hist)\n",
    "\n",
    "plt.show()"
   ]
  },
  {
   "cell_type": "code",
   "execution_count": 52,
   "metadata": {},
   "outputs": [
    {
     "data": {
      "text/plain": [
       "array([7, 2, 1, ..., 4, 5, 6])"
      ]
     },
     "execution_count": 52,
     "metadata": {},
     "output_type": "execute_result"
    }
   ],
   "source": [
    "# predict\n",
    "\n",
    "y_pred5 = dnn5.predict(X_test)\n",
    "y_pred5"
   ]
  },
  {
   "cell_type": "code",
   "execution_count": 53,
   "metadata": {},
   "outputs": [
    {
     "data": {
      "text/plain": [
       "0.9372"
      ]
     },
     "execution_count": 53,
     "metadata": {},
     "output_type": "execute_result"
    }
   ],
   "source": [
    "# Accuracy\n",
    "\n",
    "from sklearn.metrics import accuracy_score\n",
    "\n",
    "accuracy5 = accuracy_score(y_test, y_pred5)\n",
    "accuracy5"
   ]
  },
  {
   "cell_type": "code",
   "execution_count": null,
   "metadata": {},
   "outputs": [],
   "source": []
  }
 ],
 "metadata": {
  "kernelspec": {
   "display_name": "Python 3",
   "language": "python",
   "name": "python3"
  },
  "language_info": {
   "codemirror_mode": {
    "name": "ipython",
    "version": 3
   },
   "file_extension": ".py",
   "mimetype": "text/x-python",
   "name": "python",
   "nbconvert_exporter": "python",
   "pygments_lexer": "ipython3",
   "version": "3.8.3"
  }
 },
 "nbformat": 4,
 "nbformat_minor": 4
}
