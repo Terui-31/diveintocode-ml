{
 "cells": [
  {
   "cell_type": "markdown",
   "metadata": {},
   "source": [
    "【問題1】行列積を手計算する\n",
    "\n",
    "$$\n",
    "\\begin{align}\n",
    "    \\boldsymbol{A} \\boldsymbol{B}\n",
    "    &= \n",
    "    \\begin{pmatrix}\n",
    "        -1 & 2  & 3 \\\\\n",
    "        4  & -5 & 6 \\\\\n",
    "        7  & 8  & -9\n",
    "    \\end{pmatrix}\n",
    "    \\begin{pmatrix}\n",
    "        0 & 2 & 1  \\\\\n",
    "        0 & 2 & -8 \\\\\n",
    "        2 & 9 & -1\n",
    "    \\end{pmatrix} \\\\\n",
    "    &=\n",
    "    \\begin{pmatrix}\n",
    "        0+0+6   & -2+4+27   & -1-16-3 \\\\\n",
    "        0+0+12 & 8-10+54   & 4+40-6 \\\\\n",
    "        0+0-18  & 14+16-81 & 7-64+9\n",
    "    \\end{pmatrix} \\\\\n",
    "    &=\n",
    "    \\begin{pmatrix}\n",
    "        6    & 29  & -20 \\\\\n",
    "        12  & 52  &  38 \\\\\n",
    "        -18 & -51 & -48\n",
    "    \\end{pmatrix}\n",
    "\\end{align}\n",
    "$$"
   ]
  },
  {
   "cell_type": "code",
   "execution_count": 1,
   "metadata": {},
   "outputs": [
    {
     "name": "stdout",
     "output_type": "stream",
     "text": [
      "[[  6  29 -20]\n",
      " [ 12  52  38]\n",
      " [-18 -51 -48]]\n",
      "[[  6  29 -20]\n",
      " [ 12  52  38]\n",
      " [-18 -51 -48]]\n",
      "[[  6  29 -20]\n",
      " [ 12  52  38]\n",
      " [-18 -51 -48]]\n"
     ]
    }
   ],
   "source": [
    "# 【問題2】NumPyの関数による計算\n",
    "\n",
    "import numpy as np\n",
    "a_ndarray = np.array([[-1, 2, 3], [4, -5, 6], [7, 8, -9]])\n",
    "b_ndarray = np.array([[0, 2, 1], [0, 2, -8], [2, 9, -1]])\n",
    "\n",
    "# dot\n",
    "c_ndarray_dot = np.dot(a_ndarray, b_ndarray)\n",
    "print(c_ndarray_dot)\n",
    "\n",
    "# matmul\n",
    "c_ndarray_matmul = np.matmul(a_ndarray, b_ndarray)\n",
    "print(c_ndarray_matmul)\n",
    "\n",
    "# @\n",
    "c_ndarray_at = a_ndarray @ b_ndarray\n",
    "print(c_ndarray_at)"
   ]
  },
  {
   "cell_type": "code",
   "execution_count": 6,
   "metadata": {},
   "outputs": [
    {
     "name": "stdout",
     "output_type": "stream",
     "text": [
      "6\n"
     ]
    }
   ],
   "source": [
    "# 【問題3】ある要素の計算を実装\n",
    "\n",
    "c_ndarray_00_00 = a_ndarray[0, 0] * b_ndarray[0, 0]\n",
    "c_ndarray_00_10 = a_ndarray[0, 1] * b_ndarray[1, 0]\n",
    "c_ndarray_00_20 = a_ndarray[0, 2] * b_ndarray[2, 0]\n",
    "c_ndarray_0_0 = np.sum((c_ndarray_00_00, c_ndarray_00_10, c_ndarray_00_20))\n",
    "print(c_ndarray_0_0)"
   ]
  },
  {
   "cell_type": "code",
   "execution_count": 3,
   "metadata": {},
   "outputs": [
    {
     "name": "stdout",
     "output_type": "stream",
     "text": [
      "[[  6.  29. -20.]\n",
      " [ 12.  52.  38.]\n",
      " [-18. -51. -48.]]\n"
     ]
    }
   ],
   "source": [
    "# 【問題4】行列積を行う関数の作成\n",
    "\n",
    "def dot_ndarray(a, b):\n",
    "\n",
    "    import numpy as np\n",
    "    \n",
    "    c = np.zeros((a.shape[0], b.shape[1]))\n",
    "    ii = c.shape[0]\n",
    "    jj = c.shape[1]\n",
    "    kk = a.shape[0]\n",
    "    \n",
    "    for i in range(ii):\n",
    "        for j in range(jj):\n",
    "            for k in range(kk):\n",
    "                c[i][j] += a[i][k] * b[k][j]\n",
    "    return(c)\n",
    "\n",
    "print(dot_ndarray(a_ndarray, b_ndarray))"
   ]
  },
  {
   "cell_type": "code",
   "execution_count": 4,
   "metadata": {},
   "outputs": [
    {
     "name": "stdout",
     "output_type": "stream",
     "text": [
      "行列積の演算における各行列の型が一致しません。\n",
      "---type_incorrect_error---\n"
     ]
    }
   ],
   "source": [
    "# 【問題5】計算が定義されない入力を判定する\n",
    "\n",
    "d_ndarray = np.array([[-1, 2, 3], [4, -5, 6]])\n",
    "e_ndarray = np.array([[-9, 8, 7], [6, -5, 4]])\n",
    "\n",
    "def dot_ndarray2(a, b):\n",
    "\n",
    "    import numpy as np\n",
    "    \n",
    "    c = np.zeros((a.shape[0], b.shape[1]))\n",
    "    ii = c.shape[0]\n",
    "    jj = c.shape[1]\n",
    "    kk = a.shape[0]\n",
    "    \n",
    "    if a.shape[1] == b.shape[0]:\n",
    "        \n",
    "        for i in range(ii):\n",
    "            for j in range(jj):\n",
    "                for k in range(kk):\n",
    "                    c[i][j] += a[i][k] * b[k][j]\n",
    "        return(c)\n",
    "    \n",
    "    else:\n",
    "        \n",
    "        print(\"行列積の演算における各行列の型が一致しません。\")\n",
    "        return(\"---type_incorrect_error---\")\n",
    "        \n",
    "print(dot_ndarray2(d_ndarray, e_ndarray))"
   ]
  },
  {
   "cell_type": "code",
   "execution_count": 5,
   "metadata": {},
   "outputs": [
    {
     "name": "stdout",
     "output_type": "stream",
     "text": [
      "[[ 25. -16.]\n",
      " [-76.  49.]]\n"
     ]
    }
   ],
   "source": [
    "# 【問題6】転置\n",
    "\n",
    "e_ndarray_t = e_ndarray.T\n",
    "print(dot_ndarray2(d_ndarray, e_ndarray_t))"
   ]
  }
 ],
 "metadata": {
  "kernelspec": {
   "display_name": "Python 3",
   "language": "python",
   "name": "python3"
  },
  "language_info": {
   "codemirror_mode": {
    "name": "ipython",
    "version": 3
   },
   "file_extension": ".py",
   "mimetype": "text/x-python",
   "name": "python",
   "nbconvert_exporter": "python",
   "pygments_lexer": "ipython3",
   "version": "3.8.3"
  }
 },
 "nbformat": 4,
 "nbformat_minor": 4
}
