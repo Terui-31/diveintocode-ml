{
 "cells": [
  {
   "cell_type": "markdown",
   "id": "hollywood-terrorist",
   "metadata": {},
   "source": [
    "## 【問題1】機械翻訳の実行とコードリーディング"
   ]
  },
  {
   "cell_type": "code",
   "execution_count": 2,
   "id": "vertical-destruction",
   "metadata": {},
   "outputs": [
    {
     "data": {
      "text/plain": [
       "'Sequence to sequence example in Keras (character-level).\\nThis script demonstrates how to implement a basic character-level\\nsequence-to-sequence model. We apply it to translating\\nshort English sentences into short French sentences,\\ncharacter-by-character. Note that it is fairly unusual to\\ndo character-level machine translation, as word-level\\nmodels are more common in this domain.\\n\\n# Summary of the algorithm:\\n\\n- We start with input sequences from a domain (e.g. English sentences)\\n    and correspding target sequences from another domain\\n    (e.g. French sentences).\\n- An encoder LSTM turns input sequences to 2 state vectors\\n    (we keep the last LSTM state and discard the outputs).\\n- A decoder LSTM is trained to turn the target sequences into\\n    the same sequence but offset by one timestep in the future,\\n    a training process called \"teacher forcing\" in this context.\\n    Is uses as initial state the state vectors from the encoder.\\n    Effectively, the decoder learns to generate `targets[t+1...]`\\n    given `targets[...t]`, conditioned on the input sequence.\\n- In inference mode, when we want to decode unknown input sequences, we:\\n    - Encode the input sequence into state vectors\\n    - Start with a target sequence of size 1\\n        (just the start-of-sequence character)\\n    - Feed the state vectors and 1-char target sequence\\n        to the decoder to produce predictions for the next character\\n    - Sample the next character using these predictions\\n        (we simply use argmax).\\n    - Append the sampled character to the target sequence\\n    - Repeat until we generate the end-of-sequence character or we\\n        hit the character limit.\\n        \\n# Data download:\\n\\nEnglish to French sentence pairs.\\nhttps://www.manythings.org/anki/fra-eng.zip\\nLots of neat sentence pairs datasets can be found at:\\nhttps://www.manythings.org/anki/\\n\\n# References:\\n\\n- Sequence to Sequence Learning with Neural Networks\\n    https://arxiv.org/abs/1409.3215\\n- Learning Phrase Representations using\\n    RNN Encoder-Decoder for Statistical Machine Translation\\n    https://arxiv.org/abs/1406.1078\\n'"
      ]
     },
     "execution_count": 2,
     "metadata": {},
     "output_type": "execute_result"
    }
   ],
   "source": [
    "'''Sequence to sequence example in Keras (character-level).\n",
    "This script demonstrates how to implement a basic character-level\n",
    "sequence-to-sequence model. We apply it to translating\n",
    "short English sentences into short French sentences,\n",
    "character-by-character. Note that it is fairly unusual to\n",
    "do character-level machine translation, as word-level\n",
    "models are more common in this domain.\n",
    "\n",
    "# Summary of the algorithm:\n",
    "\n",
    "- We start with input sequences from a domain (e.g. English sentences)\n",
    "    and correspding target sequences from another domain\n",
    "    (e.g. French sentences).\n",
    "- An encoder LSTM turns input sequences to 2 state vectors\n",
    "    (we keep the last LSTM state and discard the outputs).\n",
    "- A decoder LSTM is trained to turn the target sequences into\n",
    "    the same sequence but offset by one timestep in the future,\n",
    "    a training process called \"teacher forcing\" in this context.\n",
    "    Is uses as initial state the state vectors from the encoder.\n",
    "    Effectively, the decoder learns to generate `targets[t+1...]`\n",
    "    given `targets[...t]`, conditioned on the input sequence.\n",
    "- In inference mode, when we want to decode unknown input sequences, we:\n",
    "    - Encode the input sequence into state vectors\n",
    "    - Start with a target sequence of size 1\n",
    "        (just the start-of-sequence character)\n",
    "    - Feed the state vectors and 1-char target sequence\n",
    "        to the decoder to produce predictions for the next character\n",
    "    - Sample the next character using these predictions\n",
    "        (we simply use argmax).\n",
    "    - Append the sampled character to the target sequence\n",
    "    - Repeat until we generate the end-of-sequence character or we\n",
    "        hit the character limit.\n",
    "        \n",
    "# Data download:\n",
    "\n",
    "English to French sentence pairs.\n",
    "https://www.manythings.org/anki/fra-eng.zip\n",
    "Lots of neat sentence pairs datasets can be found at:\n",
    "https://www.manythings.org/anki/\n",
    "\n",
    "# References:\n",
    "\n",
    "- Sequence to Sequence Learning with Neural Networks\n",
    "    https://arxiv.org/abs/1409.3215\n",
    "- Learning Phrase Representations using\n",
    "    RNN Encoder-Decoder for Statistical Machine Translation\n",
    "    https://arxiv.org/abs/1406.1078\n",
    "'''"
   ]
  },
  {
   "cell_type": "code",
   "execution_count": 3,
   "id": "brazilian-thought",
   "metadata": {},
   "outputs": [
    {
     "name": "stderr",
     "output_type": "stream",
     "text": [
      "Using TensorFlow backend.\n",
      "/Users/teruitakahiro/opt/anaconda3/envs/data_science/lib/python3.7/site-packages/tensorflow/python/framework/dtypes.py:516: FutureWarning: Passing (type, 1) or '1type' as a synonym of type is deprecated; in a future version of numpy, it will be understood as (type, (1,)) / '(1,)type'.\n",
      "  _np_qint8 = np.dtype([(\"qint8\", np.int8, 1)])\n",
      "/Users/teruitakahiro/opt/anaconda3/envs/data_science/lib/python3.7/site-packages/tensorflow/python/framework/dtypes.py:517: FutureWarning: Passing (type, 1) or '1type' as a synonym of type is deprecated; in a future version of numpy, it will be understood as (type, (1,)) / '(1,)type'.\n",
      "  _np_quint8 = np.dtype([(\"quint8\", np.uint8, 1)])\n",
      "/Users/teruitakahiro/opt/anaconda3/envs/data_science/lib/python3.7/site-packages/tensorflow/python/framework/dtypes.py:518: FutureWarning: Passing (type, 1) or '1type' as a synonym of type is deprecated; in a future version of numpy, it will be understood as (type, (1,)) / '(1,)type'.\n",
      "  _np_qint16 = np.dtype([(\"qint16\", np.int16, 1)])\n",
      "/Users/teruitakahiro/opt/anaconda3/envs/data_science/lib/python3.7/site-packages/tensorflow/python/framework/dtypes.py:519: FutureWarning: Passing (type, 1) or '1type' as a synonym of type is deprecated; in a future version of numpy, it will be understood as (type, (1,)) / '(1,)type'.\n",
      "  _np_quint16 = np.dtype([(\"quint16\", np.uint16, 1)])\n",
      "/Users/teruitakahiro/opt/anaconda3/envs/data_science/lib/python3.7/site-packages/tensorflow/python/framework/dtypes.py:520: FutureWarning: Passing (type, 1) or '1type' as a synonym of type is deprecated; in a future version of numpy, it will be understood as (type, (1,)) / '(1,)type'.\n",
      "  _np_qint32 = np.dtype([(\"qint32\", np.int32, 1)])\n",
      "/Users/teruitakahiro/opt/anaconda3/envs/data_science/lib/python3.7/site-packages/tensorflow/python/framework/dtypes.py:525: FutureWarning: Passing (type, 1) or '1type' as a synonym of type is deprecated; in a future version of numpy, it will be understood as (type, (1,)) / '(1,)type'.\n",
      "  np_resource = np.dtype([(\"resource\", np.ubyte, 1)])\n",
      "/Users/teruitakahiro/opt/anaconda3/envs/data_science/lib/python3.7/site-packages/tensorboard/compat/tensorflow_stub/dtypes.py:541: FutureWarning: Passing (type, 1) or '1type' as a synonym of type is deprecated; in a future version of numpy, it will be understood as (type, (1,)) / '(1,)type'.\n",
      "  _np_qint8 = np.dtype([(\"qint8\", np.int8, 1)])\n",
      "/Users/teruitakahiro/opt/anaconda3/envs/data_science/lib/python3.7/site-packages/tensorboard/compat/tensorflow_stub/dtypes.py:542: FutureWarning: Passing (type, 1) or '1type' as a synonym of type is deprecated; in a future version of numpy, it will be understood as (type, (1,)) / '(1,)type'.\n",
      "  _np_quint8 = np.dtype([(\"quint8\", np.uint8, 1)])\n",
      "/Users/teruitakahiro/opt/anaconda3/envs/data_science/lib/python3.7/site-packages/tensorboard/compat/tensorflow_stub/dtypes.py:543: FutureWarning: Passing (type, 1) or '1type' as a synonym of type is deprecated; in a future version of numpy, it will be understood as (type, (1,)) / '(1,)type'.\n",
      "  _np_qint16 = np.dtype([(\"qint16\", np.int16, 1)])\n",
      "/Users/teruitakahiro/opt/anaconda3/envs/data_science/lib/python3.7/site-packages/tensorboard/compat/tensorflow_stub/dtypes.py:544: FutureWarning: Passing (type, 1) or '1type' as a synonym of type is deprecated; in a future version of numpy, it will be understood as (type, (1,)) / '(1,)type'.\n",
      "  _np_quint16 = np.dtype([(\"quint16\", np.uint16, 1)])\n",
      "/Users/teruitakahiro/opt/anaconda3/envs/data_science/lib/python3.7/site-packages/tensorboard/compat/tensorflow_stub/dtypes.py:545: FutureWarning: Passing (type, 1) or '1type' as a synonym of type is deprecated; in a future version of numpy, it will be understood as (type, (1,)) / '(1,)type'.\n",
      "  _np_qint32 = np.dtype([(\"qint32\", np.int32, 1)])\n",
      "/Users/teruitakahiro/opt/anaconda3/envs/data_science/lib/python3.7/site-packages/tensorboard/compat/tensorflow_stub/dtypes.py:550: FutureWarning: Passing (type, 1) or '1type' as a synonym of type is deprecated; in a future version of numpy, it will be understood as (type, (1,)) / '(1,)type'.\n",
      "  np_resource = np.dtype([(\"resource\", np.ubyte, 1)])\n"
     ]
    }
   ],
   "source": [
    "from __future__ import print_function\n",
    "\n",
    "from keras.models import Model\n",
    "from keras.layers import Input, LSTM, Dense\n",
    "import numpy as np"
   ]
  },
  {
   "cell_type": "code",
   "execution_count": 4,
   "id": "european-slovakia",
   "metadata": {},
   "outputs": [],
   "source": [
    "batch_size = 64  # Batch size for training.\n",
    "#epochs = 100  # Number of epochs to train for.\n",
    "epochs = 1\n",
    "latent_dim = 256  # Latent dimensionality of the encoding space.\n",
    "num_samples = 10000  # Number of samples to train on.\n",
    "#num_samples = 1000\n",
    "\n",
    "# Path to the data txt file on disk.\n",
    "data_path = './fra-eng/fra.txt'"
   ]
  },
  {
   "cell_type": "markdown",
   "id": "external-wallpaper",
   "metadata": {},
   "source": [
    "* 訓練時のハイパラの定義\n",
    "* 対訳コーパスのパスの定義"
   ]
  },
  {
   "cell_type": "code",
   "execution_count": 5,
   "id": "indian-criticism",
   "metadata": {},
   "outputs": [],
   "source": [
    "# Vectorize the data.\n",
    "input_texts = []\n",
    "target_texts = []\n",
    "input_characters = set()\n",
    "target_characters = set()\n",
    "lines = open(data_path).read().split('\\n')\n",
    "\n",
    "for line in lines[: min(num_samples, len(lines) - 1)]:\n",
    "    #input_text, target_text = line.split('\\t')\n",
    "    input_text, target_text, _ = line.split('\\t')\n",
    "    #input_text, target_text = line.split('\\t', maxsplit=1)\n",
    "    \n",
    "    # We use \"tab\" as the \"start sequence\" character\n",
    "    # for the targets, and \"\\n\" as \"end sequence\" character.\n",
    "    target_text = '\\t' + target_text + '\\n'\n",
    "    input_texts.append(input_text)\n",
    "    target_texts.append(target_text)\n",
    "    \n",
    "    for char in input_text:\n",
    "        if char not in input_characters:\n",
    "            input_characters.add(char)\n",
    "            \n",
    "    for char in target_text:\n",
    "        if char not in target_characters:\n",
    "            target_characters.add(char)"
   ]
  },
  {
   "cell_type": "markdown",
   "id": "proprietary-middle",
   "metadata": {},
   "source": [
    "* fra.txt の翻訳元と翻訳先の単語を拾う\n",
    "* リストに各単語、各文字を入れる"
   ]
  },
  {
   "cell_type": "code",
   "execution_count": 6,
   "id": "cathedral-spectacular",
   "metadata": {},
   "outputs": [
    {
     "name": "stdout",
     "output_type": "stream",
     "text": [
      "Number of samples: 10000\n",
      "Number of unique input tokens: 71\n",
      "Number of unique output tokens: 93\n",
      "Max sequence length for inputs: 15\n",
      "Max sequence length for outputs: 59\n"
     ]
    }
   ],
   "source": [
    "input_characters = sorted(list(input_characters))\n",
    "target_characters = sorted(list(target_characters))\n",
    "\n",
    "num_encoder_tokens = len(input_characters)\n",
    "num_decoder_tokens = len(target_characters)\n",
    "\n",
    "max_encoder_seq_length = max([len(txt) for txt in input_texts])\n",
    "max_decoder_seq_length = max([len(txt) for txt in target_texts])\n",
    "\n",
    "print('Number of samples:', len(input_texts))\n",
    "\n",
    "print('Number of unique input tokens:', num_encoder_tokens)\n",
    "print('Number of unique output tokens:', num_decoder_tokens)\n",
    "\n",
    "print('Max sequence length for inputs:', max_encoder_seq_length)\n",
    "print('Max sequence length for outputs:', max_decoder_seq_length)"
   ]
  },
  {
   "cell_type": "markdown",
   "id": "imposed-checkout",
   "metadata": {},
   "source": [
    "* 入出力文字のソートを行う\n",
    "* 入出力文字の、重複を除いた要素数を取得する\n",
    "* 入出力単語中の、最長の文字数を取得する"
   ]
  },
  {
   "cell_type": "code",
   "execution_count": 7,
   "id": "divided-classroom",
   "metadata": {},
   "outputs": [],
   "source": [
    "input_token_index = dict(\n",
    "    [(char, i) for i, char in enumerate(input_characters)])\n",
    "\n",
    "target_token_index = dict(\n",
    "    [(char, i) for i, char in enumerate(target_characters)])\n",
    "\n",
    "encoder_input_data = np.zeros(\n",
    "    (len(input_texts), max_encoder_seq_length, num_encoder_tokens),\n",
    "    dtype='float32')\n",
    "\n",
    "decoder_input_data = np.zeros(\n",
    "    (len(input_texts), max_decoder_seq_length, num_decoder_tokens),\n",
    "    dtype='float32')\n",
    "\n",
    "decoder_target_data = np.zeros(\n",
    "    (len(input_texts), max_decoder_seq_length, num_decoder_tokens),\n",
    "    dtype='float32')\n",
    "\n",
    "\n",
    "for i, (input_text, target_text) in enumerate(zip(input_texts, target_texts)):\n",
    "    \n",
    "    for t, char in enumerate(input_text):\n",
    "        encoder_input_data[i, t, input_token_index[char]] = 1.\n",
    "        \n",
    "    for t, char in enumerate(target_text):\n",
    "        # decoder_target_data is ahead of decoder_input_data by one timestep\n",
    "        decoder_input_data[i, t, target_token_index[char]] = 1.\n",
    "        \n",
    "        if t > 0:\n",
    "            # decoder_target_data will be ahead by one timestep\n",
    "            # and will not include the start character.\n",
    "            decoder_target_data[i, t - 1, target_token_index[char]] = 1."
   ]
  },
  {
   "cell_type": "code",
   "execution_count": 8,
   "id": "preliminary-hurricane",
   "metadata": {},
   "outputs": [
    {
     "name": "stdout",
     "output_type": "stream",
     "text": [
      "(10000, 59, 93)\n"
     ]
    }
   ],
   "source": [
    "print(decoder_input_data.shape)"
   ]
  },
  {
   "cell_type": "markdown",
   "id": "verified-wilderness",
   "metadata": {},
   "source": [
    "* 入出力文字のインデックス番号を付与した辞書を作成\n",
    "* (サンプル数、最長文の長さ、トークン数)の型の器を作成し、エンコーダー、デコーダーの入力及びデコーダーの目標文のデータセットを作成する"
   ]
  },
  {
   "cell_type": "code",
   "execution_count": 9,
   "id": "quiet-remedy",
   "metadata": {},
   "outputs": [
    {
     "name": "stdout",
     "output_type": "stream",
     "text": [
      "WARNING:tensorflow:From /Users/teruitakahiro/opt/anaconda3/envs/data_science/lib/python3.7/site-packages/keras/backend/tensorflow_backend.py:74: The name tf.get_default_graph is deprecated. Please use tf.compat.v1.get_default_graph instead.\n",
      "\n",
      "WARNING:tensorflow:From /Users/teruitakahiro/opt/anaconda3/envs/data_science/lib/python3.7/site-packages/keras/backend/tensorflow_backend.py:517: The name tf.placeholder is deprecated. Please use tf.compat.v1.placeholder instead.\n",
      "\n",
      "WARNING:tensorflow:From /Users/teruitakahiro/opt/anaconda3/envs/data_science/lib/python3.7/site-packages/keras/backend/tensorflow_backend.py:4138: The name tf.random_uniform is deprecated. Please use tf.random.uniform instead.\n",
      "\n"
     ]
    }
   ],
   "source": [
    "# Define an input sequence and process it.\n",
    "encoder_inputs = Input(shape=(None, num_encoder_tokens))\n",
    "\n",
    "encoder = LSTM(latent_dim, return_state=True)\n",
    "\n",
    "encoder_outputs, state_h, state_c = encoder(encoder_inputs)\n",
    "\n",
    "# We discard `encoder_outputs` and only keep the states.\n",
    "encoder_states = [state_h, state_c]"
   ]
  },
  {
   "cell_type": "markdown",
   "id": "first-crash",
   "metadata": {},
   "source": [
    "* keras レイヤーを使いエンコーダーを定義\n",
    "* エンコーダーのLSTMは状態のみを出力"
   ]
  },
  {
   "cell_type": "code",
   "execution_count": 10,
   "id": "eligible-likelihood",
   "metadata": {},
   "outputs": [],
   "source": [
    "# Set up the decoder, using `encoder_states` as initial state.\n",
    "decoder_inputs = Input(shape=(None, num_decoder_tokens))\n",
    "\n",
    "# We set up our decoder to return full output sequences,\n",
    "# and to return internal states as well. We don't use the\n",
    "# return states in the training model, but we will use them in inference.\n",
    "decoder_lstm = LSTM(latent_dim, return_sequences=True, return_state=True)\n",
    "\n",
    "decoder_outputs, _, _ = decoder_lstm(decoder_inputs,\n",
    "                                     initial_state=encoder_states)\n",
    "\n",
    "decoder_dense = Dense(num_decoder_tokens, activation='softmax')\n",
    "\n",
    "decoder_outputs = decoder_dense(decoder_outputs)"
   ]
  },
  {
   "cell_type": "markdown",
   "id": "distinguished-interim",
   "metadata": {},
   "source": [
    "* keras レイヤーを定義しデコーダーを定義\n",
    "* デコーダーのLSTMは状態と系列を出力"
   ]
  },
  {
   "cell_type": "code",
   "execution_count": 11,
   "id": "accompanied-symposium",
   "metadata": {},
   "outputs": [],
   "source": [
    "# Define the model that will turn\n",
    "# `encoder_input_data` & `decoder_input_data` into `decoder_target_data`\n",
    "\n",
    "model = Model([encoder_inputs, decoder_inputs], decoder_outputs)"
   ]
  },
  {
   "cell_type": "markdown",
   "id": "confused-yemen",
   "metadata": {},
   "source": [
    "* モデルを定義"
   ]
  },
  {
   "cell_type": "code",
   "execution_count": 12,
   "id": "expired-balance",
   "metadata": {},
   "outputs": [
    {
     "name": "stdout",
     "output_type": "stream",
     "text": [
      "WARNING:tensorflow:From /Users/teruitakahiro/opt/anaconda3/envs/data_science/lib/python3.7/site-packages/keras/optimizers.py:790: The name tf.train.Optimizer is deprecated. Please use tf.compat.v1.train.Optimizer instead.\n",
      "\n",
      "WARNING:tensorflow:From /Users/teruitakahiro/opt/anaconda3/envs/data_science/lib/python3.7/site-packages/keras/backend/tensorflow_backend.py:3295: The name tf.log is deprecated. Please use tf.math.log instead.\n",
      "\n",
      "WARNING:tensorflow:From /Users/teruitakahiro/opt/anaconda3/envs/data_science/lib/python3.7/site-packages/tensorflow/python/ops/math_grad.py:1250: add_dispatch_support.<locals>.wrapper (from tensorflow.python.ops.array_ops) is deprecated and will be removed in a future version.\n",
      "Instructions for updating:\n",
      "Use tf.where in 2.0, which has the same broadcast rule as np.where\n",
      "WARNING:tensorflow:From /Users/teruitakahiro/opt/anaconda3/envs/data_science/lib/python3.7/site-packages/keras/backend/tensorflow_backend.py:986: The name tf.assign_add is deprecated. Please use tf.compat.v1.assign_add instead.\n",
      "\n",
      "Train on 8000 samples, validate on 2000 samples\n",
      "Epoch 1/1\n",
      "8000/8000 [==============================] - 127s 16ms/step - loss: 0.8800 - val_loss: 0.8919\n"
     ]
    },
    {
     "name": "stderr",
     "output_type": "stream",
     "text": [
      "/Users/teruitakahiro/opt/anaconda3/envs/data_science/lib/python3.7/site-packages/keras/engine/network.py:877: UserWarning: Layer lstm_2 was passed non-serializable keyword arguments: {'initial_state': [<tf.Tensor 'lstm_1/while/Exit_2:0' shape=(?, 256) dtype=float32>, <tf.Tensor 'lstm_1/while/Exit_3:0' shape=(?, 256) dtype=float32>]}. They will not be included in the serialized model (and thus will be missing at deserialization time).\n",
      "  '. They will not be included '\n"
     ]
    }
   ],
   "source": [
    "# Run training\n",
    "model.compile(optimizer='rmsprop', loss='categorical_crossentropy')\n",
    "\n",
    "model.fit([encoder_input_data, decoder_input_data], decoder_target_data,\n",
    "                  batch_size=batch_size,\n",
    "                  epochs=epochs,\n",
    "                  validation_split=0.2)\n",
    "\n",
    "# Save model\n",
    "model.save('s2s.h5')"
   ]
  },
  {
   "cell_type": "markdown",
   "id": "artistic-means",
   "metadata": {},
   "source": [
    "* 学習"
   ]
  },
  {
   "cell_type": "code",
   "execution_count": null,
   "id": "historic-margin",
   "metadata": {},
   "outputs": [],
   "source": [
    "# Next: inference mode (sampling).\n",
    "\n",
    "# Here's the drill:\n",
    "# 1) encode input and retrieve initial decoder state\n",
    "# 2) run one step of decoder with this initial state\n",
    "# and a \"start of sequence\" token as target.\n",
    "# Output will be the next target token\n",
    "# 3) Repeat with the current target token and current states"
   ]
  },
  {
   "cell_type": "code",
   "execution_count": null,
   "id": "precious-multimedia",
   "metadata": {},
   "outputs": [],
   "source": [
    "# Define sampling models\n",
    "\n",
    "encoder_model = Model(encoder_inputs, encoder_states)\n",
    "\n",
    "\n",
    "decoder_state_input_h = Input(shape=(latent_dim,))\n",
    "decoder_state_input_c = Input(shape=(latent_dim,))\n",
    "decoder_states_inputs = [decoder_state_input_h, decoder_state_input_c]\n",
    "\n",
    "\n",
    "decoder_outputs, state_h, state_c = decoder_lstm(\n",
    "                                                                                           decoder_inputs, initial_state=decoder_states_inputs)\n",
    "decoder_states = [state_h, state_c]\n",
    "decoder_outputs = decoder_dense(decoder_outputs)\n",
    "\n",
    "\n",
    "decoder_model = Model(\n",
    "                                           [decoder_inputs] + decoder_states_inputs,\n",
    "                                           [decoder_outputs] + decoder_states)"
   ]
  },
  {
   "cell_type": "markdown",
   "id": "addressed-aquarium",
   "metadata": {},
   "source": [
    "* 予測用モデルの構築\n",
    "* エンコーダー\n",
    "  + LSTM は学習済みの LSTM\n",
    "* デコーダー\n",
    "  + LSTM は状態の入力を２つ作る\n",
    "  + Dense は学習済みの Dense"
   ]
  },
  {
   "cell_type": "code",
   "execution_count": 37,
   "id": "important-editing",
   "metadata": {},
   "outputs": [],
   "source": [
    "# Reverse-lookup token index to decode sequences back to\n",
    "# something readable.\n",
    "\n",
    "reverse_input_char_index = dict(\n",
    "    (i, char) for char, i in input_token_index.items())\n",
    "\n",
    "reverse_target_char_index = dict(\n",
    "    (i, char) for char, i in target_token_index.items())"
   ]
  },
  {
   "cell_type": "markdown",
   "id": "virgin-death",
   "metadata": {},
   "source": [
    "* 辞書のkey, value を入れ替える"
   ]
  },
  {
   "cell_type": "code",
   "execution_count": 38,
   "id": "naughty-northeast",
   "metadata": {},
   "outputs": [],
   "source": [
    "def decode_sequence(input_seq):\n",
    "    # Encode the input as state vectors.\n",
    "    states_value = encoder_model.predict(input_seq)\n",
    "\n",
    "    # Generate empty target sequence of length 1.\n",
    "    target_seq = np.zeros((1, 1, num_decoder_tokens))\n",
    "    # Populate the first character of target sequence with the start character.\n",
    "    target_seq[0, 0, target_token_index['\\t']] = 1.\n",
    "\n",
    "    # Sampling loop for a batch of sequences\n",
    "    # (to simplify, here we assume a batch of size 1).\n",
    "    stop_condition = False\n",
    "    decoded_sentence = ''\n",
    "    \n",
    "    while not stop_condition:\n",
    "        output_tokens, h, c = decoder_model.predict(\n",
    "            [target_seq] + states_value)\n",
    "\n",
    "        # Sample a token\n",
    "        sampled_token_index = np.argmax(output_tokens[0, -1, :])\n",
    "        sampled_char = reverse_target_char_index[sampled_token_index]\n",
    "        decoded_sentence += sampled_char\n",
    "\n",
    "        # Exit condition: either hit max length\n",
    "        # or find stop character.\n",
    "        if (sampled_char == '\\n' or\n",
    "           len(decoded_sentence) > max_decoder_seq_length):\n",
    "            stop_condition = True\n",
    "\n",
    "        # Update the target sequence (of length 1).\n",
    "        target_seq = np.zeros((1, 1, num_decoder_tokens))\n",
    "        target_seq[0, 0, sampled_token_index] = 1.\n",
    "\n",
    "        # Update states\n",
    "        states_value = [h, c]\n",
    "\n",
    "    return decoded_sentence"
   ]
  },
  {
   "cell_type": "markdown",
   "id": "alternate-astronomy",
   "metadata": {},
   "source": [
    "* 翻訳用の関数を定義する"
   ]
  },
  {
   "cell_type": "code",
   "execution_count": 39,
   "id": "accomplished-gravity",
   "metadata": {},
   "outputs": [
    {
     "name": "stdout",
     "output_type": "stream",
     "text": [
      "-\n",
      "Input sentence: Go.\n",
      "Decoded sentence: oos s  e  e s \n",
      "\n",
      "-\n",
      "Input sentence: Go.\n",
      "Decoded sentence: oos s  e  e s \n",
      "\n",
      "-\n",
      "Input sentence: Go.\n",
      "Decoded sentence: oos s  e  e s \n",
      "\n",
      "-\n",
      "Input sentence: Hi.\n",
      "Decoded sentence: To s s  e s  e s \n",
      "\n",
      "-\n",
      "Input sentence: Hi.\n",
      "Decoded sentence: To s s  e s  e s \n",
      "\n",
      "-\n",
      "Input sentence: Run!\n",
      "Decoded sentence: Toss s  e  e s \n",
      "\n",
      "-\n",
      "Input sentence: Run!\n",
      "Decoded sentence: Toss s  e  e s \n",
      "\n",
      "-\n",
      "Input sentence: Run!\n",
      "Decoded sentence: Toss s  e  e s \n",
      "\n",
      "-\n",
      "Input sentence: Run!\n",
      "Decoded sentence: Toss s  e  e s \n",
      "\n",
      "-\n",
      "Input sentence: Run!\n",
      "Decoded sentence: Toss s  e  e s \n",
      "\n",
      "-\n",
      "Input sentence: Run!\n",
      "Decoded sentence: Toss s  e  e s \n",
      "\n",
      "-\n",
      "Input sentence: Run!\n",
      "Decoded sentence: Toss s  e  e s \n",
      "\n",
      "-\n",
      "Input sentence: Run!\n",
      "Decoded sentence: Toss s  e  e s \n",
      "\n",
      "-\n",
      "Input sentence: Run.\n",
      "Decoded sentence: Toss s  e  e s \n",
      "\n",
      "-\n",
      "Input sentence: Run.\n",
      "Decoded sentence: Toss s  e  e s \n",
      "\n",
      "-\n",
      "Input sentence: Run.\n",
      "Decoded sentence: Toss s  e  e s \n",
      "\n",
      "-\n",
      "Input sentence: Run.\n",
      "Decoded sentence: Toss s  e  e s \n",
      "\n",
      "-\n",
      "Input sentence: Run.\n",
      "Decoded sentence: Toss s  e  e s \n",
      "\n",
      "-\n",
      "Input sentence: Run.\n",
      "Decoded sentence: Toss s  e  e s \n",
      "\n",
      "-\n",
      "Input sentence: Run.\n",
      "Decoded sentence: Toss s  e  e s \n",
      "\n",
      "-\n",
      "Input sentence: Run.\n",
      "Decoded sentence: Toss s  e  e s \n",
      "\n",
      "-\n",
      "Input sentence: Who?\n",
      "Decoded sentence: Aoss s  e  e s \n",
      "\n",
      "-\n",
      "Input sentence: Wow!\n",
      "Decoded sentence: Toss s  e  e s \n",
      "\n",
      "-\n",
      "Input sentence: Fire!\n",
      "Decoded sentence: Aos s  e  e s \n",
      "\n",
      "-\n",
      "Input sentence: Help!\n",
      "Decoded sentence: Toss s  e  e s \n",
      "\n",
      "-\n",
      "Input sentence: Jump!\n",
      "Decoded sentence: To s s  e s  e s \n",
      "\n",
      "-\n",
      "Input sentence: Jump.\n",
      "Decoded sentence: Je s s  e s s s \n",
      "\n",
      "-\n",
      "Input sentence: Stop!\n",
      "Decoded sentence: Aos s  e  e s \n",
      "\n",
      "-\n",
      "Input sentence: Stop!\n",
      "Decoded sentence: Aos s  e  e s \n",
      "\n",
      "-\n",
      "Input sentence: Stop!\n",
      "Decoded sentence: Aos s  e  e s \n",
      "\n",
      "-\n",
      "Input sentence: Wait!\n",
      "Decoded sentence: Aoss s  e  e s \n",
      "\n",
      "-\n",
      "Input sentence: Wait!\n",
      "Decoded sentence: Aoss s  e  e s \n",
      "\n",
      "-\n",
      "Input sentence: Wait!\n",
      "Decoded sentence: Aoss s  e  e s \n",
      "\n",
      "-\n",
      "Input sentence: Wait.\n",
      "Decoded sentence: Toss s  e  e s \n",
      "\n",
      "-\n",
      "Input sentence: Wait.\n",
      "Decoded sentence: Toss s  e  e s \n",
      "\n",
      "-\n",
      "Input sentence: Wait.\n",
      "Decoded sentence: Toss s  e  e s \n",
      "\n",
      "-\n",
      "Input sentence: Wait.\n",
      "Decoded sentence: Toss s  e  e s \n",
      "\n",
      "-\n",
      "Input sentence: Begin.\n",
      "Decoded sentence: Toss s  e  e s \n",
      "\n",
      "-\n",
      "Input sentence: Begin.\n",
      "Decoded sentence: Toss s  e  e s \n",
      "\n",
      "-\n",
      "Input sentence: Go on.\n",
      "Decoded sentence: To s s  e s  e .\n",
      "\n",
      "-\n",
      "Input sentence: Go on.\n",
      "Decoded sentence: To s s  e s  e .\n",
      "\n",
      "-\n",
      "Input sentence: Go on.\n",
      "Decoded sentence: To s s  e s  e .\n",
      "\n",
      "-\n",
      "Input sentence: Hello!\n",
      "Decoded sentence: Toss s  e  e s \n",
      "\n",
      "-\n",
      "Input sentence: Hello!\n",
      "Decoded sentence: Toss s  e  e s \n",
      "\n",
      "-\n",
      "Input sentence: I see.\n",
      "Decoded sentence: Je s s s s s s s .\n",
      "\n",
      "-\n",
      "Input sentence: I see.\n",
      "Decoded sentence: Je s s s s s s s .\n",
      "\n",
      "-\n",
      "Input sentence: I try.\n",
      "Decoded sentence: Je s s s s s s s .\n",
      "\n",
      "-\n",
      "Input sentence: I won!\n",
      "Decoded sentence: Je s s s s s s s .\n",
      "\n",
      "-\n",
      "Input sentence: I won!\n",
      "Decoded sentence: Je s s s s s s s .\n",
      "\n",
      "-\n",
      "Input sentence: I won.\n",
      "Decoded sentence: Je s s s s s s s .\n",
      "\n",
      "-\n",
      "Input sentence: Oh no!\n",
      "Decoded sentence: Je s s  e s s s \n",
      "\n",
      "-\n",
      "Input sentence: Relax.\n",
      "Decoded sentence: Toss s  e  e s \n",
      "\n",
      "-\n",
      "Input sentence: Relax.\n",
      "Decoded sentence: Toss s  e  e s \n",
      "\n",
      "-\n",
      "Input sentence: Relax.\n",
      "Decoded sentence: Toss s  e  e s \n",
      "\n",
      "-\n",
      "Input sentence: Relax.\n",
      "Decoded sentence: Toss s  e  e s \n",
      "\n",
      "-\n",
      "Input sentence: Relax.\n",
      "Decoded sentence: Toss s  e  e s \n",
      "\n",
      "-\n",
      "Input sentence: Relax.\n",
      "Decoded sentence: Toss s  e  e s \n",
      "\n",
      "-\n",
      "Input sentence: Relax.\n",
      "Decoded sentence: Toss s  e  e s \n",
      "\n",
      "-\n",
      "Input sentence: Relax.\n",
      "Decoded sentence: Toss s  e  e s \n",
      "\n",
      "-\n",
      "Input sentence: Relax.\n",
      "Decoded sentence: Toss s  e  e s \n",
      "\n",
      "-\n",
      "Input sentence: Relax.\n",
      "Decoded sentence: Toss s  e  e s \n",
      "\n",
      "-\n",
      "Input sentence: Relax.\n",
      "Decoded sentence: Toss s  e  e s \n",
      "\n",
      "-\n",
      "Input sentence: Relax.\n",
      "Decoded sentence: Toss s  e  e s \n",
      "\n",
      "-\n",
      "Input sentence: Smile.\n",
      "Decoded sentence: To s s  e s  e s \n",
      "\n",
      "-\n",
      "Input sentence: Smile.\n",
      "Decoded sentence: To s s  e s  e s \n",
      "\n",
      "-\n",
      "Input sentence: Smile.\n",
      "Decoded sentence: To s s  e s  e s \n",
      "\n",
      "-\n",
      "Input sentence: Attack!\n",
      "Decoded sentence: Aos s  e  e s \n",
      "\n",
      "-\n",
      "Input sentence: Attack!\n",
      "Decoded sentence: Aos s  e  e s \n",
      "\n",
      "-\n",
      "Input sentence: Attack!\n",
      "Decoded sentence: Aos s  e  e s \n",
      "\n",
      "-\n",
      "Input sentence: Cheers!\n",
      "Decoded sentence: Aos s  e  e s \n",
      "\n",
      "-\n",
      "Input sentence: Cheers!\n",
      "Decoded sentence: Aos s  e  e s \n",
      "\n",
      "-\n",
      "Input sentence: Cheers!\n",
      "Decoded sentence: Aos s  e  e s \n",
      "\n",
      "-\n",
      "Input sentence: Cheers!\n",
      "Decoded sentence: Aos s  e  e s \n",
      "\n",
      "-\n",
      "Input sentence: Eat it.\n",
      "Decoded sentence: To s s  e s  e .\n",
      "\n",
      "-\n",
      "Input sentence: Eat it.\n",
      "Decoded sentence: To s s  e s  e .\n",
      "\n",
      "-\n",
      "Input sentence: Get up.\n",
      "Decoded sentence: Toss s  e  e s \n",
      "\n",
      "-\n",
      "Input sentence: Get up.\n",
      "Decoded sentence: Toss s  e  e s \n",
      "\n",
      "-\n",
      "Input sentence: Go now.\n",
      "Decoded sentence: To s s  e s  e .\n",
      "\n",
      "-\n",
      "Input sentence: Go now.\n",
      "Decoded sentence: To s s  e s  e .\n",
      "\n",
      "-\n",
      "Input sentence: Go now.\n",
      "Decoded sentence: To s s  e s  e .\n",
      "\n",
      "-\n",
      "Input sentence: Got it!\n",
      "Decoded sentence: Toss s  e  e s \n",
      "\n",
      "-\n",
      "Input sentence: Got it!\n",
      "Decoded sentence: Toss s  e  e s \n",
      "\n",
      "-\n",
      "Input sentence: Got it!\n",
      "Decoded sentence: Toss s  e  e s \n",
      "\n",
      "-\n",
      "Input sentence: Got it?\n",
      "Decoded sentence: Toss s  e  e s \n",
      "\n",
      "-\n",
      "Input sentence: Got it?\n",
      "Decoded sentence: Toss s  e  e s \n",
      "\n",
      "-\n",
      "Input sentence: Got it?\n",
      "Decoded sentence: Toss s  e  e s \n",
      "\n",
      "-\n",
      "Input sentence: Hop in.\n",
      "Decoded sentence: Je s s  e s s s \n",
      "\n",
      "-\n",
      "Input sentence: Hop in.\n",
      "Decoded sentence: Je s s  e s s s \n",
      "\n",
      "-\n",
      "Input sentence: Hug me.\n",
      "Decoded sentence: Je s s  e s s s .\n",
      "\n",
      "-\n",
      "Input sentence: Hug me.\n",
      "Decoded sentence: Je s s  e s s s .\n",
      "\n",
      "-\n",
      "Input sentence: I fell.\n",
      "Decoded sentence: Je s s s s s s s .\n",
      "\n",
      "-\n",
      "Input sentence: I fell.\n",
      "Decoded sentence: Je s s s s s s s .\n",
      "\n",
      "-\n",
      "Input sentence: I fled.\n",
      "Decoded sentence: Je s s s s s s s .\n",
      "\n",
      "-\n",
      "Input sentence: I knit.\n",
      "Decoded sentence: Je s s s s s s s .\n",
      "\n",
      "-\n",
      "Input sentence: I know.\n",
      "Decoded sentence: Je s s s s s s s .\n",
      "\n",
      "-\n",
      "Input sentence: I left.\n",
      "Decoded sentence: Je s s s s s s s .\n",
      "\n",
      "-\n",
      "Input sentence: I left.\n",
      "Decoded sentence: Je s s s s s s s .\n",
      "\n",
      "-\n",
      "Input sentence: I lied.\n",
      "Decoded sentence: Je s s s s s s s .\n",
      "\n",
      "-\n",
      "Input sentence: I lost.\n",
      "Decoded sentence: Je s s s s s s s .\n",
      "\n",
      "-\n",
      "Input sentence: I paid.\n",
      "Decoded sentence: Je s s s s s s s .\n",
      "\n"
     ]
    }
   ],
   "source": [
    "for seq_index in range(100):\n",
    "    # Take one sequence (part of the training test)\n",
    "    # for trying out decoding.\n",
    "    input_seq = encoder_input_data[seq_index: seq_index + 1]\n",
    "    decoded_sentence = decode_sequence(input_seq)\n",
    "    print('-')\n",
    "    print('Input sentence:', input_texts[seq_index])\n",
    "    print('Decoded sentence:', decoded_sentence)"
   ]
  },
  {
   "cell_type": "markdown",
   "id": "hearing-think",
   "metadata": {},
   "source": [
    "* エンコーダーの入力データを与えて翻訳を行う"
   ]
  },
  {
   "cell_type": "markdown",
   "id": "moving-audio",
   "metadata": {},
   "source": [
    "## 【問題2】イメージキャプショニングの学習済みモデルの実行"
   ]
  },
  {
   "cell_type": "code",
   "execution_count": 47,
   "id": "muslim-engineer",
   "metadata": {},
   "outputs": [
    {
     "name": "stdout",
     "output_type": "stream",
     "text": [
      "Cloning into 'coco'...\n",
      "remote: Enumerating objects: 975, done.\u001b[K\n",
      "remote: Total 975 (delta 0), reused 0 (delta 0), pack-reused 975\u001b[K\n",
      "Receiving objects: 100% (975/975), 11.72 MiB | 12.28 MiB/s, done.\n",
      "Resolving deltas: 100% (576/576), done.\n"
     ]
    }
   ],
   "source": [
    "!git clone https://github.com/pdollar/coco.git"
   ]
  },
  {
   "cell_type": "code",
   "execution_count": 6,
   "id": "rapid-driver",
   "metadata": {},
   "outputs": [
    {
     "name": "stdout",
     "output_type": "stream",
     "text": [
      "10_animate.png                     aclImdb_v1.tar.gz\r\n",
      "11_animate.png                     \u001b[34mcoco\u001b[m\u001b[m/\r\n",
      "12_animate.png                     \u001b[34mfra-eng\u001b[m\u001b[m/\r\n",
      "13_animate.png                     \u001b[34mpytorch-tutorial\u001b[m\u001b[m/\r\n",
      "14_animate.png                     s2s.h5\r\n",
      "15_animate.png                     sprint22_RNN_draft.ipynb\r\n",
      "1_animate.png                      sprint23_Gated_RNN_draft.ipynb\r\n",
      "2_animate.png                      sprint24_seq2seq_draft.ipynb\r\n",
      "3_animate.png                      sprint3_linear_reg_draft.ipynb\r\n",
      "4_animate.png                      sprint8_ensemble_draft.ipynb\r\n",
      "5_animate.png                      sprint9_FNN_draft.ipynb\r\n",
      "6_animate.png                      week1_prod_01.ipynb\r\n",
      "7_animate.png                      week1_prod_02.ipynb\r\n",
      "8_animate.png                      week1_prod_03.ipynb\r\n",
      "9_animate.png                      week2_prev_01.ipynb\r\n",
      "Sprint6_decision_tree_draft.ipynb  week2_prev_02.ipynb\r\n",
      "Week1_01_prev.ipynb                week2_prev_04.ipynb\r\n",
      "Week1_03 (1_7) .ipynb              week3_prev_01_draft.ipynb\r\n",
      "\u001b[34maclImdb\u001b[m\u001b[m/\r\n"
     ]
    }
   ],
   "source": [
    "%ls"
   ]
  },
  {
   "cell_type": "code",
   "execution_count": 14,
   "id": "spoken-sacrifice",
   "metadata": {},
   "outputs": [
    {
     "name": "stdout",
     "output_type": "stream",
     "text": [
      "/Users/teruitakahiro/dive/draft/pytorch-tutorial/tutorials/03-advanced/image_captioning\n"
     ]
    }
   ],
   "source": [
    "%cd \"./pytorch-tutorial/tutorials/03-advanced/image_captioning\""
   ]
  },
  {
   "cell_type": "code",
   "execution_count": 15,
   "id": "psychological-rogers",
   "metadata": {},
   "outputs": [
    {
     "name": "stdout",
     "output_type": "stream",
     "text": [
      "README.md         data_loader.py    \u001b[34mpng\u001b[m\u001b[m/              train.py\r\n",
      "\u001b[34m__pycache__\u001b[m\u001b[m/      \u001b[31mdownload.sh\u001b[m\u001b[m*      requirements.txt\r\n",
      "build_vocab.py    model.py          resize.py\r\n",
      "\u001b[34mdata\u001b[m\u001b[m/             \u001b[34mmodels\u001b[m\u001b[m/           sample.py\r\n"
     ]
    }
   ],
   "source": [
    "%ls"
   ]
  },
  {
   "cell_type": "code",
   "execution_count": 17,
   "id": "healthy-tiger",
   "metadata": {},
   "outputs": [
    {
     "name": "stdout",
     "output_type": "stream",
     "text": [
      "[W NNPACK.cpp:80] Could not initialize NNPACK! Reason: Unsupported hardware.\n",
      "<start> a group of giraffes standing next to each other . <end>\n"
     ]
    }
   ],
   "source": [
    "!python sample.py --image='png/example.png'"
   ]
  },
  {
   "cell_type": "markdown",
   "id": "acknowledged-sunday",
   "metadata": {},
   "source": [
    "## 【問題3】Kerasで動かしたい場合はどうするかを調査"
   ]
  },
  {
   "cell_type": "markdown",
   "id": "pleasant-major",
   "metadata": {},
   "source": [
    "1. PyTorchで、モデルを定義して学習する\n",
    "2. 学習済みモデルをONNX形式に変換して保存する\n",
    "3. ONNX形式のモデルをKerasのモデルに変換する"
   ]
  },
  {
   "cell_type": "code",
   "execution_count": null,
   "id": "incredible-canon",
   "metadata": {},
   "outputs": [],
   "source": []
  }
 ],
 "metadata": {
  "kernelspec": {
   "display_name": "Python 3",
   "language": "python",
   "name": "python3"
  },
  "language_info": {
   "codemirror_mode": {
    "name": "ipython",
    "version": 3
   },
   "file_extension": ".py",
   "mimetype": "text/x-python",
   "name": "python",
   "nbconvert_exporter": "python",
   "pygments_lexer": "ipython3",
   "version": "3.7.0"
  }
 },
 "nbformat": 4,
 "nbformat_minor": 5
}
