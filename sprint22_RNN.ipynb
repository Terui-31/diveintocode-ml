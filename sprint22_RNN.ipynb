{
 "cells": [
  {
   "cell_type": "markdown",
   "id": "running-persian",
   "metadata": {},
   "source": [
    "## 【問題1】SimpleRNNのフォワードプロパゲーション実装"
   ]
  },
  {
   "cell_type": "code",
   "execution_count": 1,
   "id": "quality-proposal",
   "metadata": {},
   "outputs": [],
   "source": [
    "import numpy as np"
   ]
  },
  {
   "cell_type": "code",
   "execution_count": 2,
   "id": "actual-dairy",
   "metadata": {},
   "outputs": [],
   "source": [
    "class SimpleRNN:\n",
    "    \n",
    "    \"\"\"\n",
    "    シンプルなRNN\n",
    "    \n",
    "    Parameters\n",
    "    ----------\n",
    "    lr : 学習率\n",
    "    \n",
    "    \"\"\"\n",
    "    \n",
    "    def __init__(self, lr, \n",
    "                 #n_features, n_nodes, \n",
    "                 #initializer, optimizer\n",
    "                ):\n",
    "        \n",
    "        #self.optimizer = optimizer\n",
    "        \n",
    "        # initializer のメソッドを実行し初期値を生成、以後更新\n",
    "        #self.w_x = initializer.w_x(n_features, n_nodes)\n",
    "        #self.w_h = initializer.w_h(n_nodes, n_nodes)\n",
    "        #self.b = initializer.B(n_nodes)\n",
    "        \n",
    "        \n",
    "        # 今回はコンストラクタで直接初期値を生成する\n",
    "        self.w_x = np.array([[1, 3, 5, 7], [3, 5, 7, 8]])/100 # (n_features, n_nodes)\n",
    "        self.w_h = np.array([[1, 3, 5, 7], [2, 4, 6, 8], [3, 5, 7, 8], [4, 6, 8, 10]])/100 # (n_nodes, n_nodes)\n",
    "        self.b = np.array([1, 1, 1, 1]) # (n_nodes,)\n",
    "        \n",
    "        self.h  =None\n",
    "        self.h_all = None\n",
    "        self.x = None\n",
    "        \n",
    "        self.lr = lr\n",
    "        self.dh = None\n",
    "        \n",
    "\n",
    "    def forward(self, x, h):\n",
    "        \"\"\"\n",
    "        フォワード\n",
    "        \n",
    "        Parameters\n",
    "        ----------\n",
    "        x : 次の形のndarray, shape (batch_size, n_sequences, n_features)\n",
    "            入力\n",
    "            \n",
    "        h :  次の形のndarray, shape (batch_size, n_nodes)\n",
    "            前の時刻の状態h\n",
    "          \n",
    "        \n",
    "        Returns\n",
    "        ----------\n",
    "        h : 次の形のndarray, shape (batch_size, n_nodes)\n",
    "            更新された状態h\n",
    "            \n",
    "        \"\"\"\n",
    "        \n",
    "        # 入力Xをコントラクタに保存、backwardで使う\n",
    "        self.x = x\n",
    "        \n",
    "        # コンストラクタの重み・バイアスの値をロード\n",
    "        w_h, w_x, b = self.w_h, self.w_x, self.b\n",
    "        \n",
    "        # 系列長を取得\n",
    "        n_sequences = x.shape[1] # 3\n",
    "        \n",
    "        # 最初にコンストラクタに h を保存、以後時刻 t ごとに更新 \n",
    "        self.h = h\n",
    "        \n",
    "        # 系列長分のhを収める箱を生成\n",
    "        self.h_all = np.zeros((x.shape[0], x.shape[1], w_x.shape[1])) # (batch_size, n_sequences, n_nodes)\n",
    "        \n",
    "        # 時刻t ごとの処理\n",
    "        for t in range(n_sequences):\n",
    "        \n",
    "            h1 = x[:, t, :] @ w_x\n",
    "            #print(h1.shape)\n",
    "            \n",
    "            h2 = self.h @ w_h\n",
    "            #print(h2.shape)\n",
    "\n",
    "            h3 = h1+ h2\n",
    "            #print(h3)\n",
    "\n",
    "            a = h3 + b\n",
    "            #print(a)\n",
    "            \n",
    "            self.h = np.tanh(a)\n",
    "            \n",
    "            # 上式をまとめると、\n",
    "            # self.h = np.tanh(x[:, t, :] @ w_x + self.h @ w_h + b)\n",
    "            \n",
    "            self.h_all[:, t, :] += self.h # 逆伝播で使う\n",
    "            #print(self.h_all)\n",
    "        \n",
    "        \n",
    "        # 最後の h のみ出力\n",
    "        return self.h\n",
    "    \n",
    "    \n",
    "    def backward(self, dh):\n",
    "        \n",
    "        \"\"\"\n",
    "        バックワード\n",
    "        \n",
    "        Parameters\n",
    "        ----------\n",
    "        dh : 次の形のndarray, shape (batch_size, n_nodes)\n",
    "            後ろから流れてきたhの勾配\n",
    "            \n",
    "        Returns\n",
    "        ----------\n",
    "        dh : 次の形のndarray, shape (n_features, n_nodes)\n",
    "            前に流すhの勾配\n",
    "            \n",
    "        dx : 次の形のndarray, shape (n_nodes, n_nodes)\n",
    "            前に流すxの勾配\n",
    "        \n",
    "        \"\"\"\n",
    "        \n",
    "        lr = self.lr # 学習率\n",
    "        \n",
    "        # 入力の系列長を取得\n",
    "        n_sequences = self.x.shape[1]\n",
    "        \n",
    "        # 最初にコンストラクタに dh を保存、以後時刻 t ごとに順伝播時と逆順に更新 \n",
    "        #self.dh = dh\n",
    "        \n",
    "        # tanh関数の微分\n",
    "        da = self.h * (1 - self.h**2)    \n",
    "        \n",
    "        # dx を入れる箱\n",
    "        dx = np.zeros((x.shape))\n",
    "        \n",
    "        # 順伝播時とは逆順のループ処理を行う\n",
    "        for t in reversed(range(n_sequences)):\n",
    "            \n",
    "            # バイアスの勾配\n",
    "            db  = da\n",
    "            # w_h の勾配\n",
    "            dw_h = self.h_all[:, t, :].T @ da\n",
    "            \n",
    "            # w_x の勾配\n",
    "            dw_x = self.x[:, t, :].T @ da\n",
    "            \n",
    "            # h, x の勾配を、t回（系列長分）更新\n",
    "            dh += da @ self.w_h.T\n",
    "            dx[:, t, :] += da @ self.w_x.T\n",
    "            \n",
    "            # パラメータの更新 (t回) \n",
    "            self.b = self.b.astype(np.float) - lr * db\n",
    "            self.w_h -= lr * dw_h\n",
    "            self.w_x -= lr * dw_x\n",
    "        \n",
    "        # 更新\n",
    "        #self.optimizer.update(self)\n",
    "        \n",
    "        return dh, dx"
   ]
  },
  {
   "cell_type": "markdown",
   "id": "cordless-humidity",
   "metadata": {},
   "source": [
    "## 【問題2】小さな配列でのフォワードプロパゲーションの実験"
   ]
  },
  {
   "cell_type": "code",
   "execution_count": 3,
   "id": "funded-diversity",
   "metadata": {},
   "outputs": [
    {
     "data": {
      "text/plain": [
       "((1, 3, 2), (1, 2))"
      ]
     },
     "execution_count": 3,
     "metadata": {},
     "output_type": "execute_result"
    }
   ],
   "source": [
    "x = np.array([[[1, 2], [2, 3], [3, 4]]])/100 # (batch_size, n_sequences, n_features)\n",
    "\n",
    "w_x = np.array([[1, 3, 5, 7], [3, 5, 7, 8]])/100 # (n_features, n_nodes)\n",
    "w_h = np.array([[1, 3, 5, 7], [2, 4, 6, 8], [3, 5, 7, 8], [4, 6, 8, 10]])/100 # (n_nodes, n_nodes)\n",
    "\n",
    "batch_size = x.shape[0] # 1\n",
    "n_sequences = x.shape[1] # 3\n",
    "n_features = x.shape[2] # 2\n",
    "\n",
    "n_nodes = w_x.shape[1] # 4\n",
    "\n",
    "h = np.zeros((batch_size, n_nodes)) # (batch_size, n_nodes)\n",
    "b = np.array([1, 1, 1, 1]) # (n_nodes,)\n",
    "\n",
    "\n",
    "# 入力の型, 系列 0 番目の型\n",
    "x.shape, x[:, 0, :].shape"
   ]
  },
  {
   "cell_type": "code",
   "execution_count": 4,
   "id": "beautiful-announcement",
   "metadata": {},
   "outputs": [],
   "source": [
    "# インスタンス生成\n",
    "\n",
    "rnn = SimpleRNN(lr=0.01)"
   ]
  },
  {
   "cell_type": "code",
   "execution_count": 5,
   "id": "weekly-average",
   "metadata": {},
   "outputs": [
    {
     "data": {
      "text/plain": [
       "array([[0.79494228, 0.81839002, 0.83939649, 0.85584174]])"
      ]
     },
     "execution_count": 5,
     "metadata": {},
     "output_type": "execute_result"
    }
   ],
   "source": [
    "# 順伝播\n",
    "\n",
    "rnn.forward(x, h)"
   ]
  },
  {
   "cell_type": "code",
   "execution_count": 6,
   "id": "saved-treatment",
   "metadata": {},
   "outputs": [],
   "source": [
    "h = np.array([[0.79494228, 0.81839002, 0.83939649, 0.85584174]]) # (batch_size, n_nodes)"
   ]
  },
  {
   "cell_type": "markdown",
   "id": "married-constraint",
   "metadata": {},
   "source": [
    "## 【問題3】（アドバンス課題）バックプロパゲーションの実装"
   ]
  },
  {
   "cell_type": "markdown",
   "id": "worst-double",
   "metadata": {},
   "source": [
    "### 逆伝播"
   ]
  },
  {
   "cell_type": "code",
   "execution_count": 7,
   "id": "framed-extraction",
   "metadata": {},
   "outputs": [
    {
     "data": {
      "text/plain": [
       "(array([[0.90682948, 0.96128325, 1.00644579, 1.0608213 ]]),\n",
       " array([[[0.03932372, 0.05777536],\n",
       "         [0.03937823, 0.05785713],\n",
       "         [0.03946   , 0.05796616]]]))"
      ]
     },
     "execution_count": 7,
     "metadata": {},
     "output_type": "execute_result"
    }
   ],
   "source": [
    "dh_prev, dx = rnn.backward(h)\n",
    "dh_prev, dx"
   ]
  },
  {
   "cell_type": "code",
   "execution_count": 8,
   "id": "pending-bangladesh",
   "metadata": {},
   "outputs": [
    {
     "data": {
      "text/plain": [
       "((1, 4), (1, 3, 2))"
      ]
     },
     "execution_count": 8,
     "metadata": {},
     "output_type": "execute_result"
    }
   ],
   "source": [
    "dh_prev.shape, dx.shape"
   ]
  },
  {
   "cell_type": "code",
   "execution_count": 9,
   "id": "incident-saudi",
   "metadata": {},
   "outputs": [],
   "source": [
    "# 欲しい型\n",
    "# dh_prev = (1, 4) = (batch_size, n_nodes)\n",
    "# dx = (1, 3, 2) = (batch_size, n_sequences, n_features)"
   ]
  },
  {
   "cell_type": "markdown",
   "id": "stretch-pitch",
   "metadata": {},
   "source": [
    "### 更新された各重み"
   ]
  },
  {
   "cell_type": "code",
   "execution_count": 10,
   "id": "demographic-smell",
   "metadata": {},
   "outputs": [
    {
     "data": {
      "text/plain": [
       "(array([[0.00982444, 0.02983784, 0.04985122, 0.06986262],\n",
       "        [0.02973667, 0.04975676, 0.06977683, 0.07979393]]),\n",
       " array([[0.0031269 , 0.02365141, 0.04417511, 0.06462146],\n",
       "        [0.01299327, 0.03352797, 0.05406185, 0.07451688],\n",
       "        [0.02287294, 0.04341683, 0.06395988, 0.07442272],\n",
       "        [0.03277831, 0.05332942, 0.07387968, 0.09434867]]))"
      ]
     },
     "execution_count": 10,
     "metadata": {},
     "output_type": "execute_result"
    }
   ],
   "source": [
    "rnn.w_x, rnn.w_h"
   ]
  },
  {
   "cell_type": "code",
   "execution_count": 11,
   "id": "directed-tuition",
   "metadata": {},
   "outputs": [
    {
     "data": {
      "text/plain": [
       "((2, 4), (4, 4))"
      ]
     },
     "execution_count": 11,
     "metadata": {},
     "output_type": "execute_result"
    }
   ],
   "source": [
    "rnn.w_x.shape, rnn.w_h.shape"
   ]
  },
  {
   "cell_type": "code",
   "execution_count": 12,
   "id": "continued-madonna",
   "metadata": {},
   "outputs": [],
   "source": [
    "# 欲しい型\n",
    "# w_x = (2, 4) = (n_features, n_nodes)\n",
    "# d_h = (4, 4) = (n_nodes, n_nodes)"
   ]
  },
  {
   "cell_type": "code",
   "execution_count": null,
   "id": "changed-ozone",
   "metadata": {},
   "outputs": [],
   "source": []
  }
 ],
 "metadata": {
  "kernelspec": {
   "display_name": "Python 3",
   "language": "python",
   "name": "python3"
  },
  "language_info": {
   "codemirror_mode": {
    "name": "ipython",
    "version": 3
   },
   "file_extension": ".py",
   "mimetype": "text/x-python",
   "name": "python",
   "nbconvert_exporter": "python",
   "pygments_lexer": "ipython3",
   "version": "3.7.0"
  }
 },
 "nbformat": 4,
 "nbformat_minor": 5
}
